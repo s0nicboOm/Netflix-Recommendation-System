{
 "cells": [
  {
   "cell_type": "code",
   "execution_count": 1,
   "metadata": {},
   "outputs": [],
   "source": [
    "import numpy as np\n",
    "import pandas as pd\n",
    "import csv\n",
    "from sklearn.model_selection import train_test_split\n",
    "import matplotlib.pyplot as plt\n",
    "import seaborn as sns\n",
    "from datetime import datetime\n",
    "import os\n",
    "from scipy import sparse\n",
    "import time\n",
    "from sklearn.metrics.pairwise import cosine_similarity\n",
    "from surprise import Reader, Dataset\n",
    "import random\n",
    "import xgboost as xgb\n",
    "from surprise import SVDpp\n",
    "from surprise import SVD\n",
    "from surprise import KNNBaseline\n",
    "from surprise import SlopeOne\n",
    "from surprise import CoClustering\n",
    "from surprise import BaselineOnly"
   ]
  },
  {
   "cell_type": "code",
   "execution_count": 2,
   "metadata": {
    "id": "KODRzQmj24PZ"
   },
   "outputs": [],
   "source": [
    "files=[\"archive/combined_data_1.txt\",\"archive/combined_data_2.txt\",\"archive/combined_data_3.txt\",\"archive/combined_data_4.txt\"]\n"
   ]
  },
  {
   "cell_type": "code",
   "execution_count": 3,
   "metadata": {
    "id": "dyhv2OCQDlDR"
   },
   "outputs": [],
   "source": [
    "\n",
    "ndata=open(\"netflixdata.csv\",\"w\")\n",
    "for file in files:\n",
    "  data=open(file,'r')\n",
    "  filename=''\n",
    "  for line in data:\n",
    "    line=line.strip()\n",
    "    if line.endswith(':'):\n",
    "      filename=line.replace(':','')\n",
    "    else:\n",
    "      r=line.split(\",\")\n",
    "      ndata.write(filename+\",\")\n",
    "      ndata.write(r[0]+\",\")\n",
    "      ndata.write(r[1]+\",\")\n",
    "      ndata.write(r[2]+\"\\n\")\n",
    "ndata.close()\n",
    "\n",
    "\n"
   ]
  },
  {
   "cell_type": "code",
   "execution_count": 4,
   "metadata": {
    "id": "ecZEyO1nQlZQ"
   },
   "outputs": [],
   "source": [
    "df=pd.read_csv(\"netflixdata.csv\",names=[\"MID\",\"CID\",\"Rating\",\"Date\"])"
   ]
  },
  {
   "cell_type": "code",
   "execution_count": 5,
   "metadata": {
    "id": "6crquecOQ5lk"
   },
   "outputs": [],
   "source": [
    "df[\"Date\"] = pd.to_datetime(df[\"Date\"])\n",
    "df.sort_values(by = \"Date\", inplace = True)"
   ]
  },
  {
   "cell_type": "code",
   "execution_count": 6,
   "metadata": {
    "colab": {
     "base_uri": "https://localhost:8080/",
     "height": 202
    },
    "id": "ra4rerDXSyMm",
    "outputId": "2dcb44cc-ec20-49da-b506-1affbf2e13d5"
   },
   "outputs": [
    {
     "data": {
      "text/html": [
       "<div>\n",
       "<style scoped>\n",
       "    .dataframe tbody tr th:only-of-type {\n",
       "        vertical-align: middle;\n",
       "    }\n",
       "\n",
       "    .dataframe tbody tr th {\n",
       "        vertical-align: top;\n",
       "    }\n",
       "\n",
       "    .dataframe thead th {\n",
       "        text-align: right;\n",
       "    }\n",
       "</style>\n",
       "<table border=\"1\" class=\"dataframe\">\n",
       "  <thead>\n",
       "    <tr style=\"text-align: right;\">\n",
       "      <th></th>\n",
       "      <th>MID</th>\n",
       "      <th>CID</th>\n",
       "      <th>Rating</th>\n",
       "      <th>Date</th>\n",
       "    </tr>\n",
       "  </thead>\n",
       "  <tbody>\n",
       "    <tr>\n",
       "      <th>56431994</th>\n",
       "      <td>10341</td>\n",
       "      <td>510180</td>\n",
       "      <td>4</td>\n",
       "      <td>1999-11-11</td>\n",
       "    </tr>\n",
       "    <tr>\n",
       "      <th>9056171</th>\n",
       "      <td>1798</td>\n",
       "      <td>510180</td>\n",
       "      <td>5</td>\n",
       "      <td>1999-11-11</td>\n",
       "    </tr>\n",
       "    <tr>\n",
       "      <th>58698779</th>\n",
       "      <td>10774</td>\n",
       "      <td>510180</td>\n",
       "      <td>3</td>\n",
       "      <td>1999-11-11</td>\n",
       "    </tr>\n",
       "    <tr>\n",
       "      <th>48101611</th>\n",
       "      <td>8651</td>\n",
       "      <td>510180</td>\n",
       "      <td>2</td>\n",
       "      <td>1999-11-11</td>\n",
       "    </tr>\n",
       "    <tr>\n",
       "      <th>81893208</th>\n",
       "      <td>14660</td>\n",
       "      <td>510180</td>\n",
       "      <td>2</td>\n",
       "      <td>1999-11-11</td>\n",
       "    </tr>\n",
       "  </tbody>\n",
       "</table>\n",
       "</div>"
      ],
      "text/plain": [
       "            MID     CID  Rating       Date\n",
       "56431994  10341  510180       4 1999-11-11\n",
       "9056171    1798  510180       5 1999-11-11\n",
       "58698779  10774  510180       3 1999-11-11\n",
       "48101611   8651  510180       2 1999-11-11\n",
       "81893208  14660  510180       2 1999-11-11"
      ]
     },
     "execution_count": 6,
     "metadata": {},
     "output_type": "execute_result"
    }
   ],
   "source": [
    "df.head()"
   ]
  },
  {
   "cell_type": "code",
   "execution_count": 7,
   "metadata": {
    "colab": {
     "base_uri": "https://localhost:8080/"
    },
    "id": "qTdjeSCIS5cC",
    "outputId": "8f6e2f08-022d-423d-a99f-951d459bdc17"
   },
   "outputs": [
    {
     "data": {
      "text/plain": [
       "count    1.004805e+08\n",
       "mean     3.604290e+00\n",
       "std      1.085219e+00\n",
       "min      1.000000e+00\n",
       "25%      3.000000e+00\n",
       "50%      4.000000e+00\n",
       "75%      4.000000e+00\n",
       "max      5.000000e+00\n",
       "Name: Rating, dtype: float64"
      ]
     },
     "execution_count": 7,
     "metadata": {},
     "output_type": "execute_result"
    }
   ],
   "source": [
    "df.describe()[\"Rating\"]"
   ]
  },
  {
   "cell_type": "code",
   "execution_count": 8,
   "metadata": {
    "colab": {
     "base_uri": "https://localhost:8080/"
    },
    "id": "z6WG5JFbN5Hj",
    "outputId": "788e07d1-25fb-43a6-e17d-b2d4a18b0377"
   },
   "outputs": [
    {
     "data": {
      "text/plain": [
       "<bound method IndexOpsMixin.value_counts of 56431994   1999-11-11\n",
       "9056171    1999-11-11\n",
       "58698779   1999-11-11\n",
       "48101611   1999-11-11\n",
       "81893208   1999-11-11\n",
       "              ...    \n",
       "49939086   2005-12-31\n",
       "42072268   2005-12-31\n",
       "47098649   2005-12-31\n",
       "55621336   2005-12-31\n",
       "25464092   2005-12-31\n",
       "Name: Date, Length: 100480507, dtype: datetime64[ns]>"
      ]
     },
     "execution_count": 8,
     "metadata": {},
     "output_type": "execute_result"
    }
   ],
   "source": [
    "df[\"Date\"].value_counts"
   ]
  },
  {
   "cell_type": "code",
   "execution_count": 9,
   "metadata": {
    "colab": {
     "base_uri": "https://localhost:8080/"
    },
    "id": "_wfvAcjRTOT2",
    "outputId": "b354a04e-cec0-4a84-f6b3-558316af4501"
   },
   "outputs": [
    {
     "name": "stdout",
     "output_type": "stream",
     "text": [
      "Number of NaN values = MID       0\n",
      "CID       0\n",
      "Rating    0\n",
      "Date      0\n",
      "dtype: int64\n"
     ]
    }
   ],
   "source": [
    "print(\"Number of NaN values = \"+str(df.isnull().sum()))"
   ]
  },
  {
   "cell_type": "code",
   "execution_count": 10,
   "metadata": {
    "colab": {
     "base_uri": "https://localhost:8080/"
    },
    "id": "w9LwGVETVoV-",
    "outputId": "944f5036-a1ec-4015-cf38-5c8024b2c2dc"
   },
   "outputs": [
    {
     "name": "stdout",
     "output_type": "stream",
     "text": [
      "Number of duplicate rows = 0\n"
     ]
    }
   ],
   "source": [
    "duplicates = df.duplicated([\"MID\",\"CID\", \"Rating\"])\n",
    "print(\"Number of duplicate rows = \"+str(duplicates.sum()))"
   ]
  },
  {
   "cell_type": "code",
   "execution_count": 11,
   "metadata": {
    "colab": {
     "base_uri": "https://localhost:8080/"
    },
    "id": "aejNXfr1VvFY",
    "outputId": "f6b207e7-9df0-4822-ba4e-27e9c632eb97"
   },
   "outputs": [
    {
     "name": "stdout",
     "output_type": "stream",
     "text": [
      "Total Data:\n",
      "Total number of movie ratings = 100480507\n",
      "Number of unique users = 480189\n",
      "Number of unique movies = 17770\n"
     ]
    }
   ],
   "source": [
    "print(\"Total Data:\")\n",
    "print(\"Total number of movie ratings = \"+str(df.shape[0]))\n",
    "print(\"Number of unique users = \"+str(len(np.unique(df[\"CID\"]))))\n",
    "print(\"Number of unique movies = \"+str(len(np.unique(df[\"MID\"]))))"
   ]
  },
  {
   "cell_type": "code",
   "execution_count": 12,
   "metadata": {
    "id": "7dTHiQgCcV05"
   },
   "outputs": [],
   "source": [
    "X_train,X_test = train_test_split(df,test_size=0.2,shuffle = False)"
   ]
  },
  {
   "cell_type": "code",
   "execution_count": 13,
   "metadata": {
    "colab": {
     "base_uri": "https://localhost:8080/",
     "height": 202
    },
    "id": "qON2iPMOdFNP",
    "outputId": "9178bc61-26f5-445c-a7f0-e74c829b8289"
   },
   "outputs": [
    {
     "data": {
      "text/html": [
       "<div>\n",
       "<style scoped>\n",
       "    .dataframe tbody tr th:only-of-type {\n",
       "        vertical-align: middle;\n",
       "    }\n",
       "\n",
       "    .dataframe tbody tr th {\n",
       "        vertical-align: top;\n",
       "    }\n",
       "\n",
       "    .dataframe thead th {\n",
       "        text-align: right;\n",
       "    }\n",
       "</style>\n",
       "<table border=\"1\" class=\"dataframe\">\n",
       "  <thead>\n",
       "    <tr style=\"text-align: right;\">\n",
       "      <th></th>\n",
       "      <th>MID</th>\n",
       "      <th>CID</th>\n",
       "      <th>Rating</th>\n",
       "      <th>Date</th>\n",
       "    </tr>\n",
       "  </thead>\n",
       "  <tbody>\n",
       "    <tr>\n",
       "      <th>56431994</th>\n",
       "      <td>10341</td>\n",
       "      <td>510180</td>\n",
       "      <td>4</td>\n",
       "      <td>1999-11-11</td>\n",
       "    </tr>\n",
       "    <tr>\n",
       "      <th>9056171</th>\n",
       "      <td>1798</td>\n",
       "      <td>510180</td>\n",
       "      <td>5</td>\n",
       "      <td>1999-11-11</td>\n",
       "    </tr>\n",
       "    <tr>\n",
       "      <th>58698779</th>\n",
       "      <td>10774</td>\n",
       "      <td>510180</td>\n",
       "      <td>3</td>\n",
       "      <td>1999-11-11</td>\n",
       "    </tr>\n",
       "    <tr>\n",
       "      <th>48101611</th>\n",
       "      <td>8651</td>\n",
       "      <td>510180</td>\n",
       "      <td>2</td>\n",
       "      <td>1999-11-11</td>\n",
       "    </tr>\n",
       "    <tr>\n",
       "      <th>81893208</th>\n",
       "      <td>14660</td>\n",
       "      <td>510180</td>\n",
       "      <td>2</td>\n",
       "      <td>1999-11-11</td>\n",
       "    </tr>\n",
       "  </tbody>\n",
       "</table>\n",
       "</div>"
      ],
      "text/plain": [
       "            MID     CID  Rating       Date\n",
       "56431994  10341  510180       4 1999-11-11\n",
       "9056171    1798  510180       5 1999-11-11\n",
       "58698779  10774  510180       3 1999-11-11\n",
       "48101611   8651  510180       2 1999-11-11\n",
       "81893208  14660  510180       2 1999-11-11"
      ]
     },
     "execution_count": 13,
     "metadata": {},
     "output_type": "execute_result"
    }
   ],
   "source": [
    "X_train.head()"
   ]
  },
  {
   "cell_type": "code",
   "execution_count": 14,
   "metadata": {
    "colab": {
     "base_uri": "https://localhost:8080/"
    },
    "id": "fiTx9j5GdLMi",
    "outputId": "44d0e75b-40a1-4886-a5cc-8463f746fd58"
   },
   "outputs": [
    {
     "name": "stdout",
     "output_type": "stream",
     "text": [
      "Total Train Data:\n",
      "Total number of movie ratings in train data = 80384405\n",
      "Total number of unique users in train data = 405041\n",
      "Total number of unique movies in train data = 17424\n",
      "Highest value of User ID = 2649429\n",
      "Highest value of Movie ID = 17770\n"
     ]
    }
   ],
   "source": [
    "print(\"Total Train Data:\")\n",
    "print(\"Total number of movie ratings in train data = \"+str(X_train.shape[0]))\n",
    "print(\"Total number of unique users in train data = \"+str(len(np.unique(X_train[\"CID\"]))))\n",
    "print(\"Total number of unique movies in train data = \"+str(len(np.unique(X_train[\"MID\"]))))\n",
    "print(\"Highest value of User ID = \"+str(max(X_train[\"CID\"].values)))\n",
    "print(\"Highest value of Movie ID = \"+str(max(X_train[\"MID\"].values)))"
   ]
  },
  {
   "cell_type": "code",
   "execution_count": 15,
   "metadata": {
    "colab": {
     "base_uri": "https://localhost:8080/",
     "height": 202
    },
    "id": "jdlZnBGbiW38",
    "outputId": "439dc645-2b51-40b2-87cd-2d4ed6218cb1"
   },
   "outputs": [
    {
     "data": {
      "text/html": [
       "<div>\n",
       "<style scoped>\n",
       "    .dataframe tbody tr th:only-of-type {\n",
       "        vertical-align: middle;\n",
       "    }\n",
       "\n",
       "    .dataframe tbody tr th {\n",
       "        vertical-align: top;\n",
       "    }\n",
       "\n",
       "    .dataframe thead th {\n",
       "        text-align: right;\n",
       "    }\n",
       "</style>\n",
       "<table border=\"1\" class=\"dataframe\">\n",
       "  <thead>\n",
       "    <tr style=\"text-align: right;\">\n",
       "      <th></th>\n",
       "      <th>MID</th>\n",
       "      <th>CID</th>\n",
       "      <th>Rating</th>\n",
       "      <th>Date</th>\n",
       "    </tr>\n",
       "  </thead>\n",
       "  <tbody>\n",
       "    <tr>\n",
       "      <th>32637772</th>\n",
       "      <td>5926</td>\n",
       "      <td>2294429</td>\n",
       "      <td>2</td>\n",
       "      <td>2005-08-08</td>\n",
       "    </tr>\n",
       "    <tr>\n",
       "      <th>55518921</th>\n",
       "      <td>10158</td>\n",
       "      <td>1743373</td>\n",
       "      <td>4</td>\n",
       "      <td>2005-08-08</td>\n",
       "    </tr>\n",
       "    <tr>\n",
       "      <th>96207802</th>\n",
       "      <td>17064</td>\n",
       "      <td>381625</td>\n",
       "      <td>5</td>\n",
       "      <td>2005-08-08</td>\n",
       "    </tr>\n",
       "    <tr>\n",
       "      <th>7239677</th>\n",
       "      <td>1443</td>\n",
       "      <td>1252933</td>\n",
       "      <td>5</td>\n",
       "      <td>2005-08-08</td>\n",
       "    </tr>\n",
       "    <tr>\n",
       "      <th>6107277</th>\n",
       "      <td>1201</td>\n",
       "      <td>1434500</td>\n",
       "      <td>4</td>\n",
       "      <td>2005-08-08</td>\n",
       "    </tr>\n",
       "  </tbody>\n",
       "</table>\n",
       "</div>"
      ],
      "text/plain": [
       "            MID      CID  Rating       Date\n",
       "32637772   5926  2294429       2 2005-08-08\n",
       "55518921  10158  1743373       4 2005-08-08\n",
       "96207802  17064   381625       5 2005-08-08\n",
       "7239677    1443  1252933       5 2005-08-08\n",
       "6107277    1201  1434500       4 2005-08-08"
      ]
     },
     "execution_count": 15,
     "metadata": {},
     "output_type": "execute_result"
    }
   ],
   "source": [
    "X_test.head()"
   ]
  },
  {
   "cell_type": "code",
   "execution_count": 16,
   "metadata": {
    "colab": {
     "base_uri": "https://localhost:8080/"
    },
    "id": "P5rR1sgFigQ5",
    "outputId": "0a6b4ca5-84c9-4b5d-bc43-97bec03d14c2"
   },
   "outputs": [
    {
     "name": "stdout",
     "output_type": "stream",
     "text": [
      "Total Test Data:\n",
      "Total number of movie ratings in Test data = 20096102\n",
      "Total number of unique users in Test data = 349312\n",
      "Total number of unique movies in Test data = 17757\n",
      "Highest value of User ID = 2649429\n",
      "Highest value of Movie ID = 17770\n"
     ]
    }
   ],
   "source": [
    "print(\"Total Test Data:\")\n",
    "print(\"Total number of movie ratings in Test data = \"+str(X_test.shape[0]))\n",
    "print(\"Total number of unique users in Test data = \"+str(len(np.unique(X_test[\"CID\"]))))\n",
    "print(\"Total number of unique movies in Test data = \"+str(len(np.unique(X_test[\"MID\"]))))\n",
    "print(\"Highest value of User ID = \"+str(max(X_test[\"CID\"].values)))\n",
    "print(\"Highest value of Movie ID = \"+str(max(X_test[\"MID\"].values)))"
   ]
  },
  {
   "cell_type": "code",
   "execution_count": 17,
   "metadata": {
    "id": "17mxzR-Biyx8"
   },
   "outputs": [],
   "source": [
    "def Label(number):\n",
    "    return str(number/10**6) + \"M\""
   ]
  },
  {
   "cell_type": "code",
   "execution_count": 18,
   "metadata": {
    "colab": {
     "base_uri": "https://localhost:8080/",
     "height": 532
    },
    "id": "ZJo8ZTrsjG7r",
    "outputId": "8710c8ae-a1c3-4d88-e44c-f0d26665198b"
   },
   "outputs": [
    {
     "data": {
      "image/png": "[encoded data removed]",
      "text/plain": [
       "<Figure size 864x576 with 1 Axes>"
      ]
     },
     "metadata": {
      "needs_background": "light"
     },
     "output_type": "display_data"
    }
   ],
   "source": [
    "plt.figure(figsize = (12, 8))\n",
    "ax = sns.countplot(x=\"Rating\", data=X_train)\n",
    "ax.set_yticklabels([Label(num) for num in ax.get_yticks()])\n",
    "plt.tick_params(labelsize = 15)\n",
    "plt.title(\"Distribution of Ratings in train data\", fontsize = 20)\n",
    "plt.xlabel(\"Rating value\", fontsize = 20)\n",
    "plt.ylabel(\"Ratings in Millions\", fontsize = 20)\n",
    "plt.show()\n",
    "\n"
   ]
  },
  {
   "cell_type": "code",
   "execution_count": 19,
   "metadata": {
    "colab": {
     "base_uri": "https://localhost:8080/"
    },
    "id": "8LXrNJI1jwUO",
    "outputId": "5f20a85b-0798-4a8e-8df9-30eae1921eb7"
   },
   "outputs": [
    {
     "name": "stderr",
     "output_type": "stream",
     "text": [
      "C:\\Users\\trama\\Anaconda3\\lib\\site-packages\\ipykernel_launcher.py:1: SettingWithCopyWarning: \n",
      "A value is trying to be set on a copy of a slice from a DataFrame.\n",
      "Try using .loc[row_indexer,col_indexer] = value instead\n",
      "\n",
      "See the caveats in the documentation: https://pandas.pydata.org/pandas-docs/stable/user_guide/indexing.html#returning-a-view-versus-a-copy\n",
      "  \"\"\"Entry point for launching an IPython kernel.\n"
     ]
    }
   ],
   "source": [
    "X_train[\"DayOfWeek\"] = X_train.Date.dt.day_name()"
   ]
  },
  {
   "cell_type": "code",
   "execution_count": 20,
   "metadata": {
    "colab": {
     "base_uri": "https://localhost:8080/",
     "height": 202
    },
    "id": "l3rdkZgWkVW-",
    "outputId": "6dc35e86-7d47-4a4c-c966-83ce561a0c18"
   },
   "outputs": [
    {
     "data": {
      "text/html": [
       "<div>\n",
       "<style scoped>\n",
       "    .dataframe tbody tr th:only-of-type {\n",
       "        vertical-align: middle;\n",
       "    }\n",
       "\n",
       "    .dataframe tbody tr th {\n",
       "        vertical-align: top;\n",
       "    }\n",
       "\n",
       "    .dataframe thead th {\n",
       "        text-align: right;\n",
       "    }\n",
       "</style>\n",
       "<table border=\"1\" class=\"dataframe\">\n",
       "  <thead>\n",
       "    <tr style=\"text-align: right;\">\n",
       "      <th></th>\n",
       "      <th>MID</th>\n",
       "      <th>CID</th>\n",
       "      <th>Rating</th>\n",
       "      <th>Date</th>\n",
       "      <th>DayOfWeek</th>\n",
       "    </tr>\n",
       "  </thead>\n",
       "  <tbody>\n",
       "    <tr>\n",
       "      <th>65962842</th>\n",
       "      <td>12074</td>\n",
       "      <td>2033618</td>\n",
       "      <td>4</td>\n",
       "      <td>2005-08-08</td>\n",
       "      <td>Monday</td>\n",
       "    </tr>\n",
       "    <tr>\n",
       "      <th>4425817</th>\n",
       "      <td>862</td>\n",
       "      <td>1797061</td>\n",
       "      <td>3</td>\n",
       "      <td>2005-08-08</td>\n",
       "      <td>Monday</td>\n",
       "    </tr>\n",
       "    <tr>\n",
       "      <th>59747678</th>\n",
       "      <td>10986</td>\n",
       "      <td>1498715</td>\n",
       "      <td>5</td>\n",
       "      <td>2005-08-08</td>\n",
       "      <td>Monday</td>\n",
       "    </tr>\n",
       "    <tr>\n",
       "      <th>83182974</th>\n",
       "      <td>14861</td>\n",
       "      <td>500016</td>\n",
       "      <td>4</td>\n",
       "      <td>2005-08-08</td>\n",
       "      <td>Monday</td>\n",
       "    </tr>\n",
       "    <tr>\n",
       "      <th>32637774</th>\n",
       "      <td>5926</td>\n",
       "      <td>1044015</td>\n",
       "      <td>5</td>\n",
       "      <td>2005-08-08</td>\n",
       "      <td>Monday</td>\n",
       "    </tr>\n",
       "  </tbody>\n",
       "</table>\n",
       "</div>"
      ],
      "text/plain": [
       "            MID      CID  Rating       Date DayOfWeek\n",
       "65962842  12074  2033618       4 2005-08-08    Monday\n",
       "4425817     862  1797061       3 2005-08-08    Monday\n",
       "59747678  10986  1498715       5 2005-08-08    Monday\n",
       "83182974  14861   500016       4 2005-08-08    Monday\n",
       "32637774   5926  1044015       5 2005-08-08    Monday"
      ]
     },
     "execution_count": 20,
     "metadata": {},
     "output_type": "execute_result"
    }
   ],
   "source": [
    "X_train.tail()"
   ]
  },
  {
   "cell_type": "code",
   "execution_count": 21,
   "metadata": {
    "colab": {
     "base_uri": "https://localhost:8080/",
     "height": 532
    },
    "id": "hs0Ak8oimS07",
    "outputId": "fa3ba03c-10c1-4de2-f174-c193d788a964"
   },
   "outputs": [
    {
     "data": {
      "image/png": "[encoded data removed]",
      "text/plain": [
       "<Figure size 720x576 with 1 Axes>"
      ]
     },
     "metadata": {
      "needs_background": "light"
     },
     "output_type": "display_data"
    }
   ],
   "source": [
    "plt.figure(figsize = (10,8))\n",
    "ax = X_train.resample(\"M\", on = \"Date\")[\"Rating\"].count().plot()\n",
    "\n",
    "ax.set_yticklabels([Label(num) for num in ax.get_yticks()])\n",
    "ax.set_title(\"Number of Ratings per month\", fontsize = 20)\n",
    "ax.set_xlabel(\"Date\", fontsize = 20)\n",
    "ax.set_ylabel(\"Number of Ratings Per Month(Millions)\", fontsize = 20)\n",
    "plt.tick_params(labelsize = 15)\n",
    "plt.show()"
   ]
  },
  {
   "cell_type": "code",
   "execution_count": 22,
   "metadata": {
    "colab": {
     "base_uri": "https://localhost:8080/",
     "height": 532
    },
    "id": "pAOzcc2MPZ-B",
    "outputId": "a7003cfd-c58b-4b6d-8cc0-a454ed32c2b9"
   },
   "outputs": [
    {
     "data": {
      "image/png": "[encoded data removed]",
      "text/plain": [
       "<Figure size 720x576 with 1 Axes>"
      ]
     },
     "metadata": {
      "needs_background": "light"
     },
     "output_type": "display_data"
    }
   ],
   "source": [
    "plt.figure(figsize = (10,8))\n",
    "ax = X_train.resample(\"Y\", on = \"Date\")[\"Rating\"].count().plot()\n",
    "\n",
    "ax.set_yticklabels([Label(num) for num in ax.get_yticks()])\n",
    "ax.set_title(\"Total number of Ratings per year\", fontsize = 20)\n",
    "ax.set_xlabel(\"Date\", fontsize = 20)\n",
    "ax.set_ylabel(\"Total number of Ratings Per Month(Millions)\", fontsize = 20)\n",
    "plt.tick_params(labelsize = 15)\n",
    "plt.show()"
   ]
  },
  {
   "cell_type": "code",
   "execution_count": 23,
   "metadata": {
    "colab": {
     "base_uri": "https://localhost:8080/",
     "height": 532
    },
    "id": "UsTfvJI3PlBZ",
    "outputId": "b33a9d88-d68c-45c8-d483-363c55b37254"
   },
   "outputs": [
    {
     "data": {
      "image/png": "[encoded data removed]",
      "text/plain": [
       "<Figure size 720x576 with 1 Axes>"
      ]
     },
     "metadata": {
      "needs_background": "light"
     },
     "output_type": "display_data"
    }
   ],
   "source": [
    "plt.figure(figsize = (10,8))\n",
    "ax = X_train.resample(\"W\", on = \"Date\")[\"Rating\"].count().plot()\n",
    "\n",
    "ax.set_yticklabels([Label(num) for num in ax.get_yticks()])\n",
    "ax.set_title(\"Total number of Ratings per week\", fontsize = 20)\n",
    "ax.set_xlabel(\"Date\", fontsize = 20)\n",
    "ax.set_ylabel(\"Total number of Ratings Per Month(Millions)\", fontsize = 20)\n",
    "plt.tick_params(labelsize = 15)\n",
    "plt.show()"
   ]
  },
  {
   "cell_type": "code",
   "execution_count": 24,
   "metadata": {
    "id": "_Pomh0HQnBEN"
   },
   "outputs": [],
   "source": [
    "no_of_rated_movies_per_user = X_train.groupby(by = \"CID\")[\"Rating\"].count().sort_values(ascending = False)"
   ]
  },
  {
   "cell_type": "code",
   "execution_count": 25,
   "metadata": {
    "colab": {
     "base_uri": "https://localhost:8080/"
    },
    "id": "9XiTJ1X4nUAP",
    "outputId": "3689a856-4460-450c-dcc3-532b91910361"
   },
   "outputs": [
    {
     "data": {
      "text/plain": [
       "CID\n",
       "305344     17112\n",
       "2439493    15896\n",
       "387418     15402\n",
       "1639792     9767\n",
       "1461435     9447\n",
       "Name: Rating, dtype: int64"
      ]
     },
     "execution_count": 25,
     "metadata": {},
     "output_type": "execute_result"
    }
   ],
   "source": [
    "no_of_rated_movies_per_user.head()"
   ]
  },
  {
   "cell_type": "code",
   "execution_count": 26,
   "metadata": {
    "colab": {
     "base_uri": "https://localhost:8080/",
     "height": 513
    },
    "id": "h1HXI0M9nXG_",
    "outputId": "40660247-0c43-4214-97a7-63d8aa782d41"
   },
   "outputs": [
    {
     "data": {
      "image/png": "[encoded data removed]",
      "text/plain": [
       "<Figure size 1008x504 with 2 Axes>"
      ]
     },
     "metadata": {
      "needs_background": "light"
     },
     "output_type": "display_data"
    }
   ],
   "source": [
    "fig, axes = plt.subplots(nrows = 1, ncols = 2, figsize=(14,7))\n",
    "\n",
    "sns.kdeplot(no_of_rated_movies_per_user.values, shade = True, ax = axes[0])\n",
    "axes[0].set_title(\"PDF\", fontsize = 18)\n",
    "axes[0].set_xlabel(\"Number of Ratings by user\", fontsize = 18)\n",
    "axes[0].tick_params(labelsize = 15)\n",
    "\n",
    "sns.kdeplot(no_of_rated_movies_per_user.values, shade = True, cumulative = True, ax = axes[1])\n",
    "axes[1].set_title(\"CDF\", fontsize = 18)\n",
    "axes[1].set_xlabel(\"Number of Ratings by user\", fontsize = 18)\n",
    "axes[1].tick_params(labelsize = 15)\n",
    "\n",
    "fig.subplots_adjust(wspace=2)\n",
    "plt.tight_layout()\n",
    "plt.show()"
   ]
  },
  {
   "cell_type": "code",
   "execution_count": 27,
   "metadata": {
    "colab": {
     "base_uri": "https://localhost:8080/"
    },
    "id": "evU_-WVsnm2I",
    "outputId": "6a707c35-336f-4364-aa57-fccdc41ed9bb"
   },
   "outputs": [
    {
     "name": "stdout",
     "output_type": "stream",
     "text": [
      "Information about movie ratings grouped by users:\n"
     ]
    },
    {
     "data": {
      "text/plain": [
       "count    405041.000000\n",
       "mean        198.459921\n",
       "std         290.793238\n",
       "min           1.000000\n",
       "25%          34.000000\n",
       "50%          89.000000\n",
       "75%         245.000000\n",
       "max       17112.000000\n",
       "Name: Rating, dtype: float64"
      ]
     },
     "execution_count": 27,
     "metadata": {},
     "output_type": "execute_result"
    }
   ],
   "source": [
    "print(\"Information about movie ratings grouped by users:\")\n",
    "no_of_rated_movies_per_user.describe()"
   ]
  },
  {
   "cell_type": "code",
   "execution_count": 28,
   "metadata": {
    "id": "xg8g57zMnob7"
   },
   "outputs": [],
   "source": [
    "quantiles = no_of_rated_movies_per_user.quantile(np.arange(0,1.01,0.01))"
   ]
  },
  {
   "cell_type": "code",
   "execution_count": 29,
   "metadata": {
    "colab": {
     "base_uri": "https://localhost:8080/",
     "height": 529
    },
    "id": "rM2pYw6onuwv",
    "outputId": "a5f9166d-9662-4f83-e0ba-10c60d4723f1"
   },
   "outputs": [
    {
     "data": {
      "image/png": "[encoded data removed]",
      "text/plain": [
       "<Figure size 720x432 with 1 Axes>"
      ]
     },
     "metadata": {
      "needs_background": "light"
     },
     "output_type": "display_data"
    }
   ],
   "source": [
    "fig = plt.figure(figsize = (10, 6))\n",
    "\n",
    "axes = fig.add_axes([0.1,0.1,1,1])\n",
    "axes.set_title(\"Quantile values of Ratings Per User\", fontsize = 20)\n",
    "axes.set_xlabel(\"Quantiles\", fontsize = 20)\n",
    "axes.set_ylabel(\"Ratings Per User\", fontsize = 20)\n",
    "axes.plot(quantiles)\n",
    "\n",
    "plt.scatter(x = quantiles.index[::5], y = quantiles.values[::5], c = \"blue\", s = 70, label=\"quantiles with 0.05 intervals\")\n",
    "plt.scatter(x = quantiles.index[::25], y = quantiles.values[::25], c = \"red\", s = 70, label=\"quantiles with 0.25 intervals\")\n",
    "plt.legend(loc='upper left', fontsize = 20)\n",
    "\n",
    "for x, y in zip(quantiles.index[::25], quantiles.values[::25]):\n",
    "    plt.annotate(s = '({},{})'.format(x, y), xy = (x, y), fontweight='bold', fontsize = 16, xytext=(x-0.05, y+180))\n",
    "    \n",
    "axes.tick_params(labelsize = 15)\n",
    "\n"
   ]
  },
  {
   "cell_type": "code",
   "execution_count": 30,
   "metadata": {
    "colab": {
     "base_uri": "https://localhost:8080/"
    },
    "id": "XAwVjoZWn_Oi",
    "outputId": "bc132a78-abbf-4051-d736-83a33b74b493"
   },
   "outputs": [
    {
     "data": {
      "text/plain": [
       "0.00        1.0\n",
       "0.05        7.0\n",
       "0.10       15.0\n",
       "0.15       21.0\n",
       "0.20       27.0\n",
       "0.25       34.0\n",
       "0.30       41.0\n",
       "0.35       50.0\n",
       "0.40       60.0\n",
       "0.45       73.0\n",
       "0.50       89.0\n",
       "0.55      109.0\n",
       "0.60      133.0\n",
       "0.65      163.0\n",
       "0.70      199.0\n",
       "0.75      245.0\n",
       "0.80      307.0\n",
       "0.85      392.0\n",
       "0.90      520.0\n",
       "0.95      749.0\n",
       "1.00    17112.0\n",
       "Name: Rating, dtype: float64"
      ]
     },
     "execution_count": 30,
     "metadata": {},
     "output_type": "execute_result"
    }
   ],
   "source": [
    "quantiles[::5]"
   ]
  },
  {
   "cell_type": "code",
   "execution_count": 31,
   "metadata": {
    "colab": {
     "base_uri": "https://localhost:8080/"
    },
    "id": "jQVpmqp9oId2",
    "outputId": "a87c0409-9952-4796-ada0-4f944bcf7a6b"
   },
   "outputs": [
    {
     "name": "stdout",
     "output_type": "stream",
     "text": [
      "Total number of ratings below 75th percentile = 243251\n",
      "Total number of ratings above 75th percentile = 161790\n"
     ]
    }
   ],
   "source": [
    "print(\"Total number of ratings below 75th percentile = \"+str(sum(no_of_rated_movies_per_user.values<=133)))\n",
    "print(\"Total number of ratings above 75th percentile = \"+str(sum(no_of_rated_movies_per_user.values>133)))"
   ]
  },
  {
   "cell_type": "code",
   "execution_count": 32,
   "metadata": {
    "id": "-sWt9PDVoQS_"
   },
   "outputs": [],
   "source": [
    "no_of_ratings_per_movie = X_train.groupby(by = \"MID\")[\"Rating\"].count().sort_values(ascending = False)"
   ]
  },
  {
   "cell_type": "code",
   "execution_count": 33,
   "metadata": {
    "colab": {
     "base_uri": "https://localhost:8080/",
     "height": 514
    },
    "id": "Hvvdv9vMoVut",
    "outputId": "5876fb96-1b63-4fc8-b91b-4a5261ce84bb"
   },
   "outputs": [
    {
     "data": {
      "image/png": "[encoded data removed]",
      "text/plain": [
       "<Figure size 864x432 with 1 Axes>"
      ]
     },
     "metadata": {
      "needs_background": "light"
     },
     "output_type": "display_data"
    }
   ],
   "source": [
    "fig = plt.figure(figsize = (12, 6))\n",
    "axes = fig.add_axes([0.1,0.1,1,1])\n",
    "plt.title(\"Number of Ratings Per Movie\", fontsize = 20)\n",
    "plt.xlabel(\"Movie\", fontsize = 20)\n",
    "plt.ylabel(\"Count of Ratings\", fontsize = 20)\n",
    "plt.plot(no_of_ratings_per_movie.values)\n",
    "plt.tick_params(labelsize = 15)\n",
    "axes.set_xticklabels([])\n",
    "plt.show()"
   ]
  },
  {
   "cell_type": "code",
   "execution_count": 34,
   "metadata": {
    "colab": {
     "base_uri": "https://localhost:8080/",
     "height": 532
    },
    "id": "nKVIsUYKoaiz",
    "outputId": "a2584838-196b-4b8f-f419-11be338548d6"
   },
   "outputs": [
    {
     "data": {
      "image/png": "[encoded data removed]",
      "text/plain": [
       "<Figure size 864x576 with 1 Axes>"
      ]
     },
     "metadata": {
      "needs_background": "light"
     },
     "output_type": "display_data"
    }
   ],
   "source": [
    "fig = plt.figure(figsize = (12, 8))\n",
    "\n",
    "axes = sns.countplot(x = \"DayOfWeek\", data = X_train)\n",
    "axes.set_title(\"Day of week VS Number of Ratings\", fontsize = 20)\n",
    "axes.set_xlabel(\"Day of Week\", fontsize = 20)\n",
    "axes.set_ylabel(\"Number of Ratings\", fontsize = 20)\n",
    "axes.set_yticklabels([Label(num) for num in ax.get_yticks()])\n",
    "axes.tick_params(labelsize = 15)\n",
    "\n",
    "plt.show()"
   ]
  },
  {
   "cell_type": "code",
   "execution_count": 35,
   "metadata": {
    "colab": {
     "base_uri": "https://localhost:8080/",
     "height": 542
    },
    "id": "lqb_89Oeo5QZ",
    "outputId": "885109be-c526-46cc-90ba-a1e32b9fa8ff"
   },
   "outputs": [
    {
     "data": {
      "image/png": "[encoded data removed]",
      "text/plain": [
       "<Figure size 864x576 with 1 Axes>"
      ]
     },
     "metadata": {
      "needs_background": "light"
     },
     "output_type": "display_data"
    }
   ],
   "source": [
    "fig = plt.figure(figsize = (12, 8))\n",
    "\n",
    "axes = sns.violinplot(x = \"DayOfWeek\", y = \"Rating\", data = X_train)\n",
    "axes.set_title(\"Day of week VS Number of Ratings\", fontsize = 20)\n",
    "axes.set_xlabel(\"Day of Week\", fontsize = 30)\n",
    "axes.set_ylabel(\"Number of Ratings\", fontsize = 20)\n",
    "axes.tick_params(labelsize = 15)\n",
    "\n",
    "plt.show()"
   ]
  },
  {
   "cell_type": "markdown",
   "metadata": {
    "id": "CcfLmnrDvabI"
   },
   "source": [
    "#Generating Sparse Matrix\n"
   ]
  },
  {
   "cell_type": "code",
   "execution_count": 36,
   "metadata": {
    "id": "jKqfGJbXQ0Yq"
   },
   "outputs": [],
   "source": [
    "Sparse_TrainData = sparse.csr_matrix((X_train.Rating, (X_train.CID, X_train.MID)))"
   ]
  },
  {
   "cell_type": "code",
   "execution_count": 37,
   "metadata": {
    "id": "cMlgepQR3r0R"
   },
   "outputs": [],
   "source": [
    "Sparse_TestData = sparse.csr_matrix((X_test.Rating, (X_test.CID, X_test.MID)))\n"
   ]
  },
  {
   "cell_type": "code",
   "execution_count": 38,
   "metadata": {
    "colab": {
     "base_uri": "https://localhost:8080/"
    },
    "id": "gTfEMzhq5Ffx",
    "outputId": "153d98ec-c343-4e4d-e0ec-703fde737212"
   },
   "outputs": [
    {
     "data": {
      "text/plain": [
       "80384405"
      ]
     },
     "execution_count": 38,
     "metadata": {},
     "output_type": "execute_result"
    }
   ],
   "source": [
    "len(X_train)"
   ]
  },
  {
   "cell_type": "code",
   "execution_count": 39,
   "metadata": {
    "colab": {
     "base_uri": "https://localhost:8080/"
    },
    "id": "D2BZNq2h7Pou",
    "outputId": "a2cefd2d-1977-497d-e848-494ad003423c"
   },
   "outputs": [
    {
     "data": {
      "text/plain": [
       "20096102"
      ]
     },
     "execution_count": 39,
     "metadata": {},
     "output_type": "execute_result"
    }
   ],
   "source": [
    "len(X_test)"
   ]
  },
  {
   "cell_type": "code",
   "execution_count": 40,
   "metadata": {
    "id": "kK3lVqMu7uGc"
   },
   "outputs": [],
   "source": [
    "def getAvgRatings(sparseMatrix,s):\n",
    "    if s=='row':\n",
    "      ax=1\n",
    "    else:\n",
    "      ax=0 \n",
    "    Ratingssum = sparseMatrix.sum(axis = ax).A1  #this will give an array of sum of all the ratings of user if axis = 1 else \n",
    "    #sum of all the ratings of movies if axis = 0\n",
    "    Ratingstotalnumber = (sparseMatrix!=0).sum(axis = ax).A1  \n",
    "    #this will give a boolean True or False array, and True means 1 and False means 0\n",
    "    #And further we are summing it to get the count of all the non-zero cells means length of non-zero cells\n",
    "    rows, cols = sparseMatrix.shape\n",
    "    avgRatings = {i: Ratingssum[i]/Ratingstotalnumber[i] for i in range(rows if s=='row' else cols) if Ratingstotalnumber[i]!=0}\n",
    "    return avgRatings"
   ]
  },
  {
   "cell_type": "markdown",
   "metadata": {
    "id": "-t2xPuTTvmvw"
   },
   "source": [
    "#Get average ratings movie wise or user wise\n",
    "## User wise data is stored in a column\n",
    "## Movie wise data is stored in a row"
   ]
  },
  {
   "cell_type": "code",
   "execution_count": 41,
   "metadata": {
    "id": "uAwgQPzqI6pq"
   },
   "outputs": [],
   "source": [
    "AvgRatingUser = getAvgRatings(Sparse_TrainData, 'row')\n",
    "AvgRatingMovie = getAvgRatings(Sparse_TrainData, 'column')"
   ]
  },
  {
   "cell_type": "code",
   "execution_count": 42,
   "metadata": {
    "colab": {
     "base_uri": "https://localhost:8080/"
    },
    "id": "PtQCyObMKMs3",
    "outputId": "55627049-1779-4ff4-d8a9-1f986359a536"
   },
   "outputs": [
    {
     "name": "stdout",
     "output_type": "stream",
     "text": [
      "0:02:29.830527\n"
     ]
    }
   ],
   "source": [
    "start = datetime.now()\n",
    "movie_movie_similarity = cosine_similarity(Sparse_TrainData.T, dense_output = False)    \n",
    "print(datetime.now() - start)"
   ]
  },
  {
   "cell_type": "code",
   "execution_count": 43,
   "metadata": {
    "id": "o_94xyMLOHYC"
   },
   "outputs": [],
   "source": [
    "movie_ids = np.unique(movie_movie_similarity.nonzero())"
   ]
  },
  {
   "cell_type": "markdown",
   "metadata": {
    "id": "v9SR9-1nwHrL"
   },
   "source": [
    "# For the top 100 movies we identify the movies most similar to them.\n",
    "## Note: We can do this for all the movies in dataset but it takes more than 2 days to run the algorithm.  "
   ]
  },
  {
   "cell_type": "code",
   "execution_count": 44,
   "metadata": {
    "id": "oRH40oP0W0xg"
   },
   "outputs": [],
   "source": [
    "similar_movies_dict = {}\n",
    "for movie in movie_ids:\n",
    "    smlr = np.argsort(-movie_movie_similarity[movie].toarray().ravel())[1:100]\n",
    "    similar_movies_dict[movie] = smlr"
   ]
  },
  {
   "cell_type": "code",
   "execution_count": 45,
   "metadata": {
    "id": "rCVSA2CKXUSb"
   },
   "outputs": [],
   "source": [
    "movie_titles_df = pd.read_csv(\"archive/movie_titles.csv\",sep = \",\", header = None, names=['MID', 'Year_of_Release', 'Movie_Title'], index_col = \"MID\", encoding = \"iso8859_2\")"
   ]
  },
  {
   "cell_type": "code",
   "execution_count": 46,
   "metadata": {
    "colab": {
     "base_uri": "https://localhost:8080/",
     "height": 232
    },
    "id": "zVj4uFqcXx-q",
    "outputId": "300a5408-4d3d-4285-ca08-662ff1671bf6"
   },
   "outputs": [
    {
     "data": {
      "text/html": [
       "<div>\n",
       "<style scoped>\n",
       "    .dataframe tbody tr th:only-of-type {\n",
       "        vertical-align: middle;\n",
       "    }\n",
       "\n",
       "    .dataframe tbody tr th {\n",
       "        vertical-align: top;\n",
       "    }\n",
       "\n",
       "    .dataframe thead th {\n",
       "        text-align: right;\n",
       "    }\n",
       "</style>\n",
       "<table border=\"1\" class=\"dataframe\">\n",
       "  <thead>\n",
       "    <tr style=\"text-align: right;\">\n",
       "      <th></th>\n",
       "      <th>Year_of_Release</th>\n",
       "      <th>Movie_Title</th>\n",
       "    </tr>\n",
       "    <tr>\n",
       "      <th>MID</th>\n",
       "      <th></th>\n",
       "      <th></th>\n",
       "    </tr>\n",
       "  </thead>\n",
       "  <tbody>\n",
       "    <tr>\n",
       "      <th>1</th>\n",
       "      <td>2003.0</td>\n",
       "      <td>Dinosaur Planet</td>\n",
       "    </tr>\n",
       "    <tr>\n",
       "      <th>2</th>\n",
       "      <td>2004.0</td>\n",
       "      <td>Isle of Man TT 2004 Review</td>\n",
       "    </tr>\n",
       "    <tr>\n",
       "      <th>3</th>\n",
       "      <td>1997.0</td>\n",
       "      <td>Character</td>\n",
       "    </tr>\n",
       "    <tr>\n",
       "      <th>4</th>\n",
       "      <td>1994.0</td>\n",
       "      <td>Paula Abdul's Get Up &amp; Dance</td>\n",
       "    </tr>\n",
       "    <tr>\n",
       "      <th>5</th>\n",
       "      <td>2004.0</td>\n",
       "      <td>The Rise and Fall of ECW</td>\n",
       "    </tr>\n",
       "  </tbody>\n",
       "</table>\n",
       "</div>"
      ],
      "text/plain": [
       "     Year_of_Release                   Movie_Title\n",
       "MID                                               \n",
       "1             2003.0               Dinosaur Planet\n",
       "2             2004.0    Isle of Man TT 2004 Review\n",
       "3             1997.0                     Character\n",
       "4             1994.0  Paula Abdul's Get Up & Dance\n",
       "5             2004.0      The Rise and Fall of ECW"
      ]
     },
     "execution_count": 46,
     "metadata": {},
     "output_type": "execute_result"
    }
   ],
   "source": [
    "movie_titles_df.head()"
   ]
  },
  {
   "cell_type": "code",
   "execution_count": 47,
   "metadata": {
    "colab": {
     "base_uri": "https://localhost:8080/"
    },
    "id": "Ox3rivZsX1he",
    "outputId": "d811be07-784d-417e-c7ee-3a20ce2aa890"
   },
   "outputs": [
    {
     "name": "stdout",
     "output_type": "stream",
     "text": [
      "Movie: Dinosaur Planet\n",
      "Ratings for Dinosaur Planet :- 395\n",
      "Total number of similar movies to Dinosaur Planet is 17297\n"
     ]
    }
   ],
   "source": [
    "MID_GR = 1\n",
    "#Trying to find similar movies to movie which has ID 1 using cosine similarity\n",
    "print(\"Movie: \"+str(movie_titles_df.loc[MID_GR][1]))\n",
    "\n",
    "print(\"Ratings for {} :- {}\".format(movie_titles_df.loc[MID_GR][1], Sparse_TrainData[:,MID_GR].getnnz()))\n",
    "\n",
    "print(\"Total number of similar movies to {} is {}\".format(movie_titles_df.loc[MID_GR][1], movie_movie_similarity[MID_GR].count_nonzero()))"
   ]
  },
  {
   "cell_type": "code",
   "execution_count": 48,
   "metadata": {
    "colab": {
     "base_uri": "https://localhost:8080/"
    },
    "id": "i8hnZ7KYX-XG",
    "outputId": "e6d8c6d8-de08-42fd-c074-419d802ac848"
   },
   "outputs": [
    {
     "data": {
      "text/plain": [
       "Year_of_Release                           2001\n",
       "Movie_Title        Arjuna: Complete Collection\n",
       "Name: 396, dtype: object"
      ]
     },
     "execution_count": 48,
     "metadata": {},
     "output_type": "execute_result"
    }
   ],
   "source": [
    "movie_titles_df.iloc[395]"
   ]
  },
  {
   "cell_type": "code",
   "execution_count": 49,
   "metadata": {
    "colab": {
     "base_uri": "https://localhost:8080/"
    },
    "id": "kRtlYZHhYddx",
    "outputId": "a4f2430c-ee02-44a3-af4f-e89e56f5a813"
   },
   "outputs": [
    {
     "data": {
      "text/plain": [
       "array([  694,  5302,  1084, 13586,  1173,  4181,  8800, 10656, 15648,\n",
       "       10257], dtype=int64)"
      ]
     },
     "execution_count": 49,
     "metadata": {},
     "output_type": "execute_result"
    }
   ],
   "source": [
    "similar_movies_dict[MID_GR][:10]"
   ]
  },
  {
   "cell_type": "code",
   "execution_count": 50,
   "metadata": {},
   "outputs": [],
   "source": [
    "def get_sample_sparse_matrix(sparse_matrix, no_users, no_movies, path, verbose = True):\n",
    "\n",
    "    #sparse_matrix is used to obtained (row,col) and (rating) tuples\n",
    "    index_row, index_column, ratings = sparse.find(sparse_matrix)\n",
    "    users = np.unique(index_row)\n",
    "    movies = np.unique(index_column)\n",
    "\n",
    "    print(\"Original Matrix : (users, movies) -- ({} {})\".format(len(users), len(movies)))\n",
    "    print(\"Original Matrix : Ratings -- {}\\n\".format(len(ratings)))\n",
    "\n",
    "    np.random.seed(15)\n",
    "    user_sampleArr = np.random.choice(users, no_users, replace=False)\n",
    "    movie_sampleArr = np.random.choice(movies, no_movies, replace=False)\n",
    "    \n",
    "    #We get the boolean mask or we could get the sampled_items in original row/column..\n",
    "    mask = np.logical_and( np.isin(index_row, user_sampleArr),\n",
    "                      np.isin(index_column, movie_sampleArr) )\n",
    "    \n",
    "    sample_sparse_matrix = sparse.csr_matrix((ratings[mask], (index_row[mask], index_column[mask])),\n",
    "                                             shape=(max(user_sampleArr)+1, max(movie_sampleArr)+1))\n",
    "\n",
    "    if verbose:\n",
    "        print(\"Sampled Matrix : (users, movies) -> ({} {})\".format(len(user_sampleArr), len(movie_sampleArr)))\n",
    "        print(\"Sampled Matrix : Ratings ->\", format(ratings[mask].shape[0]))\n",
    "\n",
    "    #The data is save it into disk for further use to reduce time required for computation later\n",
    "    sparse.save_npz(path, sample_sparse_matrix)\n",
    "    if verbose:\n",
    "            print('Completed\\n')\n",
    "    \n",
    "    return sample_sparse_matrix"
   ]
  },
  {
   "cell_type": "code",
   "execution_count": 51,
   "metadata": {},
   "outputs": [
    {
     "name": "stdout",
     "output_type": "stream",
     "text": [
      "File present in pwd\n",
      "Completed.\n",
      "0:00:00.052114\n"
     ]
    }
   ],
   "source": [
    "start = datetime.now()\n",
    "path = \"archive/sample_train_sparse_matrix.npz\"\n",
    "if os.path.isfile(path):\n",
    "    print(\"File present in pwd\")\n",
    "    #It's obtained through the disk to save computing time\n",
    "    sample_train_sparse_matrix = sparse.load_npz(path)\n",
    "    print(\"Completed.\")\n",
    "else: \n",
    "    #get 6000 users and 600 movies from the data available  \n",
    "    sample_train_sparse_matrix = get_sample_sparse_matrix(Sparse_TrainData, no_users=6000, no_movies=600,\n",
    "                                             path = path)\n",
    "\n",
    "print(datetime.now() - start)"
   ]
  },
  {
   "cell_type": "code",
   "execution_count": 52,
   "metadata": {},
   "outputs": [
    {
     "name": "stdout",
     "output_type": "stream",
     "text": [
      "File present in pwd\n",
      "Completed.\n",
      "0:00:00.031019\n"
     ]
    }
   ],
   "source": [
    "start = datetime.now()\n",
    "\n",
    "path = \"archive/sample_test_sparse_matrix.npz\"\n",
    "if os.path.isfile(path):\n",
    "    print(\"File present in pwd\")\n",
    "    # just get it from the disk instead of computing it\n",
    "    sample_test_sparse_matrix = sparse.load_npz(path)\n",
    "    print(\"Completed.\")\n",
    "else:\n",
    "    # get 3k users and 300 movies from available data \n",
    "    sample_test_sparse_matrix = get_sample_sparse_matrix(Sparse_TestData, no_users=3000, no_movies=300,\n",
    "                                                 path = \"sample_test_sparse_matrix.npz\")\n",
    "print(datetime.now() - start)"
   ]
  },
  {
   "cell_type": "code",
   "execution_count": 53,
   "metadata": {},
   "outputs": [
    {
     "data": {
      "text/plain": [
       "{'global': 3.587763568709636}"
      ]
     },
     "execution_count": 53,
     "metadata": {},
     "output_type": "execute_result"
    }
   ],
   "source": [
    "sample_train_avg = dict()\n",
    "global_avg = sample_train_sparse_matrix.sum()/sample_train_sparse_matrix.count_nonzero()\n",
    "sample_train_avg['global'] = global_avg\n",
    "sample_train_avg"
   ]
  },
  {
   "cell_type": "code",
   "execution_count": 55,
   "metadata": {
    "scrolled": true
   },
   "outputs": [],
   "source": [
    "sample_train_avg['user'] = getAvgRatings(sample_train_sparse_matrix, 'row')\n"
   ]
  },
  {
   "cell_type": "code",
   "execution_count": 56,
   "metadata": {},
   "outputs": [],
   "source": [
    "sample_train_avg['movie'] =  getAvgRatings(sample_train_sparse_matrix, 'column')"
   ]
  },
  {
   "cell_type": "code",
   "execution_count": 57,
   "metadata": {},
   "outputs": [
    {
     "name": "stdout",
     "output_type": "stream",
     "text": [
      "No of ratings in Sample train matrix are : 46762\n",
      "\n",
      "No of ratings in Sample test matrix are : 2829\n",
      "\n"
     ]
    }
   ],
   "source": [
    "print('No of ratings in Sample train matrix are : {}\\n'.format(sample_train_sparse_matrix.count_nonzero()))\n",
    "print('No of ratings in Sample test matrix are : {}\\n'.format(sample_test_sparse_matrix.count_nonzero()))"
   ]
  },
  {
   "cell_type": "code",
   "execution_count": 58,
   "metadata": {},
   "outputs": [],
   "source": [
    "sample_trainUsers, sample_trainMovies, sample_trainRatings = sparse.find(sample_train_sparse_matrix)"
   ]
  },
  {
   "cell_type": "code",
   "execution_count": 59,
   "metadata": {},
   "outputs": [
    {
     "name": "stdout",
     "output_type": "stream",
     "text": [
      "File exists in directory\n",
      "0:00:00.000989\n"
     ]
    }
   ],
   "source": [
    "############################################################\n",
    "# It took me almost 10 hours to prepare this train dataset.#\n",
    "############################################################\n",
    "start = datetime.now()\n",
    "if os.path.isfile('archive/reg_train.csv'):\n",
    "    print(\"File exists in directory\" )\n",
    "else:\n",
    "    print('preparing {} tuples for the dataset.\\n'.format(len(sample_trainRatings)))\n",
    "    with open('archive/reg_train.csv', mode='w') as reg_data_file:\n",
    "        count = 0\n",
    "        for (user, movie, rating)  in zip(sample_trainUsers, sample_trainMovies, sample_trainRatings):\n",
    "            st = datetime.now()\n",
    "            #Finding the users similar to \"user\"        \n",
    "            similar_users = cosine_similarity(sample_train_sparse_matrix[user], sample_train_sparse_matrix).ravel()\n",
    "            top_similar_users = similar_users.argsort()[::-1][1:] \n",
    "            #Ignoring 'user' from its similar users.\n",
    "            #Getting the ratings of most similar users for this movie\n",
    "            top_ratings = sample_train_sparse_matrix[top_similar_users, movie].toarray().ravel()\n",
    "            #Making it's length \"5\" by adding movie averages .\n",
    "            top_similar_users_ratings = list(top_ratings[top_ratings != 0][:5])\n",
    "            top_similar_users_ratings.extend([sample_train_avg['movie'][movie]]*(5 - len(top_similar_users_ratings)))\n",
    "            #Finding the movies similar to \"movie\"        \n",
    "            movie_sim = cosine_similarity(sample_train_sparse_matrix[:,movie].T, sample_train_sparse_matrix.T).ravel()\n",
    "            top_similar_movies = movie_sim.argsort()[::-1][1:] \n",
    "            #Ignoring 'movie' from its similar movies.\n",
    "            # get the ratings of most similar movie rated by this user..\n",
    "            top_ratings = sample_train_sparse_matrix[user, top_similar_movies].toarray().ravel()\n",
    "            #Making it's length \"5\" by adding user averages.\n",
    "            top_similar_movies_ratings = list(top_ratings[top_ratings != 0][:5])\n",
    "            top_similar_movies_ratings.extend([sample_train_avg['user'][user]]*(5-len(top_similar_movies_ratings))) \n",
    "      \n",
    "            row = []\n",
    "            row.append(user)\n",
    "            row.append(movie)\n",
    "            \n",
    "            #Adding other features to this data\n",
    "            \n",
    "            row.append(sample_train_avg['global']) \n",
    "            #This will be the first feature\n",
    "            \n",
    "            #Next 5 features are similar_users \"movie\" ratings\n",
    "            row.extend(top_similar_users_ratings)\n",
    "            # next 5 features are \"user\" ratings for similar_movies\n",
    "            row.extend(top_similar_movies_ratings)\n",
    "            # Avg_user rating\n",
    "            row.append(sample_train_avg['user'][user])\n",
    "            # Avg_movie rating\n",
    "            row.append(sample_train_avg['movie'][movie])\n",
    "\n",
    "            #Getting the actual rating of this particular user-movie combination\n",
    "            row.append(rating)\n",
    "            count = count + 1\n",
    "\n",
    "            #Adding rows to the file opened\n",
    "            reg_data_file.write(','.join(map(str, row)))\n",
    "            reg_data_file.write('\\n')        \n",
    "            if (count)%10000 == 0:\n",
    "                print(\"Done for {} rows----- {}\".format(count, datetime.now() - start))\n",
    "\n",
    "\n",
    "print(datetime.now() - start)"
   ]
  },
  {
   "cell_type": "code",
   "execution_count": 60,
   "metadata": {},
   "outputs": [
    {
     "data": {
      "text/html": [
       "<div>\n",
       "<style scoped>\n",
       "    .dataframe tbody tr th:only-of-type {\n",
       "        vertical-align: middle;\n",
       "    }\n",
       "\n",
       "    .dataframe tbody tr th {\n",
       "        vertical-align: top;\n",
       "    }\n",
       "\n",
       "    .dataframe thead th {\n",
       "        text-align: right;\n",
       "    }\n",
       "</style>\n",
       "<table border=\"1\" class=\"dataframe\">\n",
       "  <thead>\n",
       "    <tr style=\"text-align: right;\">\n",
       "      <th></th>\n",
       "      <th>user</th>\n",
       "      <th>movie</th>\n",
       "      <th>GAvg</th>\n",
       "      <th>sur1</th>\n",
       "      <th>sur2</th>\n",
       "      <th>sur3</th>\n",
       "      <th>sur4</th>\n",
       "      <th>sur5</th>\n",
       "      <th>smr1</th>\n",
       "      <th>smr2</th>\n",
       "      <th>smr3</th>\n",
       "      <th>smr4</th>\n",
       "      <th>smr5</th>\n",
       "      <th>UAvg</th>\n",
       "      <th>MAvg</th>\n",
       "      <th>rating</th>\n",
       "    </tr>\n",
       "  </thead>\n",
       "  <tbody>\n",
       "    <tr>\n",
       "      <th>0</th>\n",
       "      <td>53406</td>\n",
       "      <td>33</td>\n",
       "      <td>3.587764</td>\n",
       "      <td>5.0</td>\n",
       "      <td>3.0</td>\n",
       "      <td>4.0</td>\n",
       "      <td>4.0</td>\n",
       "      <td>5.0</td>\n",
       "      <td>5.0</td>\n",
       "      <td>2.0</td>\n",
       "      <td>3.0</td>\n",
       "      <td>1.0</td>\n",
       "      <td>3.0</td>\n",
       "      <td>3.342857</td>\n",
       "      <td>4.119403</td>\n",
       "      <td>4</td>\n",
       "    </tr>\n",
       "    <tr>\n",
       "      <th>1</th>\n",
       "      <td>99865</td>\n",
       "      <td>33</td>\n",
       "      <td>3.587764</td>\n",
       "      <td>3.0</td>\n",
       "      <td>5.0</td>\n",
       "      <td>5.0</td>\n",
       "      <td>4.0</td>\n",
       "      <td>5.0</td>\n",
       "      <td>5.0</td>\n",
       "      <td>4.0</td>\n",
       "      <td>5.0</td>\n",
       "      <td>5.0</td>\n",
       "      <td>4.0</td>\n",
       "      <td>3.842105</td>\n",
       "      <td>4.119403</td>\n",
       "      <td>5</td>\n",
       "    </tr>\n",
       "    <tr>\n",
       "      <th>2</th>\n",
       "      <td>101620</td>\n",
       "      <td>33</td>\n",
       "      <td>3.587764</td>\n",
       "      <td>4.0</td>\n",
       "      <td>4.0</td>\n",
       "      <td>3.0</td>\n",
       "      <td>5.0</td>\n",
       "      <td>5.0</td>\n",
       "      <td>3.0</td>\n",
       "      <td>4.0</td>\n",
       "      <td>5.0</td>\n",
       "      <td>4.0</td>\n",
       "      <td>5.0</td>\n",
       "      <td>3.608696</td>\n",
       "      <td>4.119403</td>\n",
       "      <td>5</td>\n",
       "    </tr>\n",
       "    <tr>\n",
       "      <th>3</th>\n",
       "      <td>112974</td>\n",
       "      <td>33</td>\n",
       "      <td>3.587764</td>\n",
       "      <td>4.0</td>\n",
       "      <td>5.0</td>\n",
       "      <td>5.0</td>\n",
       "      <td>5.0</td>\n",
       "      <td>3.0</td>\n",
       "      <td>3.0</td>\n",
       "      <td>5.0</td>\n",
       "      <td>2.0</td>\n",
       "      <td>5.0</td>\n",
       "      <td>5.0</td>\n",
       "      <td>3.800000</td>\n",
       "      <td>4.119403</td>\n",
       "      <td>5</td>\n",
       "    </tr>\n",
       "    <tr>\n",
       "      <th>4</th>\n",
       "      <td>125275</td>\n",
       "      <td>33</td>\n",
       "      <td>3.587764</td>\n",
       "      <td>3.0</td>\n",
       "      <td>4.0</td>\n",
       "      <td>5.0</td>\n",
       "      <td>5.0</td>\n",
       "      <td>4.0</td>\n",
       "      <td>2.0</td>\n",
       "      <td>3.0</td>\n",
       "      <td>2.0</td>\n",
       "      <td>5.0</td>\n",
       "      <td>4.0</td>\n",
       "      <td>3.394737</td>\n",
       "      <td>4.119403</td>\n",
       "      <td>4</td>\n",
       "    </tr>\n",
       "  </tbody>\n",
       "</table>\n",
       "</div>"
      ],
      "text/plain": [
       "     user  movie      GAvg  sur1  sur2  sur3  sur4  sur5  smr1  smr2  smr3  \\\n",
       "0   53406     33  3.587764   5.0   3.0   4.0   4.0   5.0   5.0   2.0   3.0   \n",
       "1   99865     33  3.587764   3.0   5.0   5.0   4.0   5.0   5.0   4.0   5.0   \n",
       "2  101620     33  3.587764   4.0   4.0   3.0   5.0   5.0   3.0   4.0   5.0   \n",
       "3  112974     33  3.587764   4.0   5.0   5.0   5.0   3.0   3.0   5.0   2.0   \n",
       "4  125275     33  3.587764   3.0   4.0   5.0   5.0   4.0   2.0   3.0   2.0   \n",
       "\n",
       "   smr4  smr5      UAvg      MAvg  rating  \n",
       "0   1.0   3.0  3.342857  4.119403       4  \n",
       "1   5.0   4.0  3.842105  4.119403       5  \n",
       "2   4.0   5.0  3.608696  4.119403       5  \n",
       "3   5.0   5.0  3.800000  4.119403       5  \n",
       "4   5.0   4.0  3.394737  4.119403       4  "
      ]
     },
     "execution_count": 60,
     "metadata": {},
     "output_type": "execute_result"
    }
   ],
   "source": [
    "reg_train = pd.read_csv('archive/reg_train.csv', names = ['user', 'movie', 'GAvg', 'sur1', 'sur2', 'sur3', 'sur4', 'sur5','smr1', 'smr2', 'smr3', 'smr4', 'smr5', 'UAvg', 'MAvg', 'rating'], header=None)\n",
    "reg_train.head()"
   ]
  },
  {
   "cell_type": "code",
   "execution_count": 61,
   "metadata": {},
   "outputs": [],
   "source": [
    "sample_test_users, sample_test_movies, sample_test_ratings = sparse.find(sample_test_sparse_matrix)"
   ]
  },
  {
   "cell_type": "code",
   "execution_count": 62,
   "metadata": {},
   "outputs": [
    {
     "name": "stdout",
     "output_type": "stream",
     "text": [
      "File is already created\n"
     ]
    }
   ],
   "source": [
    "start = datetime.now()\n",
    "\n",
    "if os.path.isfile('archive/reg_test.csv'):\n",
    "    print(\"File is already created\")\n",
    "else:\n",
    "\n",
    "    print('preparing {} tuples for the dataset..\\n'.format(len(sample_test_ratings)))\n",
    "    with open('archive/reg_test.csv', mode='w') as reg_data_file:\n",
    "        count = 0 \n",
    "        for (user, movie, rating)  in zip(sample_test_users, sample_test_movies, sample_test_ratings):\n",
    "            st = datetime.now()\n",
    "            try:\n",
    "                #Carrying out similar operations as performed before\n",
    "                similar_users = cosine_similarity(sample_train_sparse_matrix[user], sample_train_sparse_matrix).ravel()\n",
    "                top_similar_users = similar_users.argsort()[::-1][1:] \n",
    "                \n",
    "                top_ratings = sample_train_sparse_matrix[top_similar_users, movie].toarray().ravel()\n",
    "                \n",
    "                top_similar_users_ratings = list(top_ratings[top_ratings != 0][:5])\n",
    "                top_similar_users_ratings.extend([sample_train_avg['movie'][movie]]*(5 - len(top_similar_users_ratings)))\n",
    "                \n",
    "                \n",
    "            except (IndexError, KeyError):\n",
    "                # It is a new User or new Movie or there are no ratings for given user for top similar movies.\n",
    "                top_similar_users_ratings.extend([sample_train_avg['global']]*(5 - len(top_similar_users_ratings)))\n",
    "            except:\n",
    "                print(user, movie)\n",
    "                #Only solving KeyErrors and not every exception.\n",
    "                raise\n",
    "\n",
    "\n",
    "\n",
    "            #Ratings by \"user\"  to similar movies of \"movie\"\n",
    "            try:\n",
    "                  \n",
    "                movie_sim = cosine_similarity(sample_train_sparse_matrix[:,movie].T, sample_train_sparse_matrix.T).ravel()\n",
    "                top_similar_movies = movie_sim.argsort()[::-1][1:] \n",
    "                \n",
    "                top_ratings = sample_train_sparse_matrix[user, top_similar_movies].toarray().ravel()\n",
    "               \n",
    "                top_similar_movies_ratings = list(top_ratings[top_ratings != 0][:5])\n",
    "                top_similar_movies_ratings.extend([sample_train_avg['user'][user]]*(5-len(top_similar_movies_ratings))) \n",
    "                \n",
    "            except (IndexError, KeyError):\n",
    "                \n",
    "                top_similar_movies_ratings.extend([sample_train_avg['global']]*(5-len(top_similar_movies_ratings)))\n",
    "                \n",
    "            except :\n",
    "                raise\n",
    "\n",
    "            #Storing the rows in a file\n",
    "            row = []\n",
    "            #Adding user and movie name\n",
    "            row.append(user)\n",
    "            row.append(movie)\n",
    "            row.append(sample_train_avg['global'])\n",
    "            \n",
    "            row.extend(top_similar_users_ratings)\n",
    "            \n",
    "            row.extend(top_similar_movies_ratings)\n",
    "            \n",
    "            try:\n",
    "                row.append(sample_train_avg['user'][user])\n",
    "            except KeyError:\n",
    "                row.append(sample_train_avg['global'])\n",
    "            except:\n",
    "                raise\n",
    "\n",
    "                \n",
    "            try:\n",
    "                row.append(sample_train_avg['movie'][movie])\n",
    "            except KeyError:\n",
    "                row.append(sample_train_avg['global'])\n",
    "            except:\n",
    "                raise\n",
    "            \n",
    "            #The actual Rating of this user-movie pair...\n",
    "            row.append(rating)\n",
    "            \n",
    "            count = count + 1\n",
    "\n",
    "            #Adding rows to the file\n",
    "            reg_data_file.write(','.join(map(str, row)))\n",
    "            \n",
    "            reg_data_file.write('\\n')        \n",
    "            if (count)%1000 == 0:\n",
    "            \n",
    "                print(\"Done for {} rows----- {}\".format(count, datetime.now() - start))\n",
    "    print(\"\",datetime.now() - start)"
   ]
  },
  {
   "cell_type": "code",
   "execution_count": 63,
   "metadata": {},
   "outputs": [
    {
     "data": {
      "text/html": [
       "<div>\n",
       "<style scoped>\n",
       "    .dataframe tbody tr th:only-of-type {\n",
       "        vertical-align: middle;\n",
       "    }\n",
       "\n",
       "    .dataframe tbody tr th {\n",
       "        vertical-align: top;\n",
       "    }\n",
       "\n",
       "    .dataframe thead th {\n",
       "        text-align: right;\n",
       "    }\n",
       "</style>\n",
       "<table border=\"1\" class=\"dataframe\">\n",
       "  <thead>\n",
       "    <tr style=\"text-align: right;\">\n",
       "      <th></th>\n",
       "      <th>user</th>\n",
       "      <th>movie</th>\n",
       "      <th>GAvg</th>\n",
       "      <th>sur1</th>\n",
       "      <th>sur2</th>\n",
       "      <th>sur3</th>\n",
       "      <th>sur4</th>\n",
       "      <th>sur5</th>\n",
       "      <th>smr1</th>\n",
       "      <th>smr2</th>\n",
       "      <th>smr3</th>\n",
       "      <th>smr4</th>\n",
       "      <th>smr5</th>\n",
       "      <th>UAvg</th>\n",
       "      <th>MAvg</th>\n",
       "      <th>rating</th>\n",
       "    </tr>\n",
       "  </thead>\n",
       "  <tbody>\n",
       "    <tr>\n",
       "      <th>0</th>\n",
       "      <td>808635</td>\n",
       "      <td>71</td>\n",
       "      <td>3.587764</td>\n",
       "      <td>3.587764</td>\n",
       "      <td>3.587764</td>\n",
       "      <td>3.587764</td>\n",
       "      <td>3.587764</td>\n",
       "      <td>3.587764</td>\n",
       "      <td>3.587764</td>\n",
       "      <td>3.587764</td>\n",
       "      <td>3.587764</td>\n",
       "      <td>3.587764</td>\n",
       "      <td>3.587764</td>\n",
       "      <td>3.587764</td>\n",
       "      <td>3.587764</td>\n",
       "      <td>5</td>\n",
       "    </tr>\n",
       "    <tr>\n",
       "      <th>1</th>\n",
       "      <td>941866</td>\n",
       "      <td>71</td>\n",
       "      <td>3.587764</td>\n",
       "      <td>3.587764</td>\n",
       "      <td>3.587764</td>\n",
       "      <td>3.587764</td>\n",
       "      <td>3.587764</td>\n",
       "      <td>3.587764</td>\n",
       "      <td>3.587764</td>\n",
       "      <td>3.587764</td>\n",
       "      <td>3.587764</td>\n",
       "      <td>3.587764</td>\n",
       "      <td>3.587764</td>\n",
       "      <td>3.587764</td>\n",
       "      <td>3.587764</td>\n",
       "      <td>4</td>\n",
       "    </tr>\n",
       "    <tr>\n",
       "      <th>2</th>\n",
       "      <td>1737912</td>\n",
       "      <td>71</td>\n",
       "      <td>3.587764</td>\n",
       "      <td>3.587764</td>\n",
       "      <td>3.587764</td>\n",
       "      <td>3.587764</td>\n",
       "      <td>3.587764</td>\n",
       "      <td>3.587764</td>\n",
       "      <td>3.587764</td>\n",
       "      <td>3.587764</td>\n",
       "      <td>3.587764</td>\n",
       "      <td>3.587764</td>\n",
       "      <td>3.587764</td>\n",
       "      <td>3.587764</td>\n",
       "      <td>3.587764</td>\n",
       "      <td>3</td>\n",
       "    </tr>\n",
       "    <tr>\n",
       "      <th>3</th>\n",
       "      <td>117617</td>\n",
       "      <td>111</td>\n",
       "      <td>3.587764</td>\n",
       "      <td>3.587764</td>\n",
       "      <td>3.587764</td>\n",
       "      <td>3.587764</td>\n",
       "      <td>3.587764</td>\n",
       "      <td>3.587764</td>\n",
       "      <td>3.587764</td>\n",
       "      <td>3.587764</td>\n",
       "      <td>3.587764</td>\n",
       "      <td>3.587764</td>\n",
       "      <td>3.587764</td>\n",
       "      <td>3.587764</td>\n",
       "      <td>3.587764</td>\n",
       "      <td>4</td>\n",
       "    </tr>\n",
       "  </tbody>\n",
       "</table>\n",
       "</div>"
      ],
      "text/plain": [
       "      user  movie      GAvg      sur1      sur2      sur3      sur4      sur5  \\\n",
       "0   808635     71  3.587764  3.587764  3.587764  3.587764  3.587764  3.587764   \n",
       "1   941866     71  3.587764  3.587764  3.587764  3.587764  3.587764  3.587764   \n",
       "2  1737912     71  3.587764  3.587764  3.587764  3.587764  3.587764  3.587764   \n",
       "3   117617    111  3.587764  3.587764  3.587764  3.587764  3.587764  3.587764   \n",
       "\n",
       "       smr1      smr2      smr3      smr4      smr5      UAvg      MAvg  \\\n",
       "0  3.587764  3.587764  3.587764  3.587764  3.587764  3.587764  3.587764   \n",
       "1  3.587764  3.587764  3.587764  3.587764  3.587764  3.587764  3.587764   \n",
       "2  3.587764  3.587764  3.587764  3.587764  3.587764  3.587764  3.587764   \n",
       "3  3.587764  3.587764  3.587764  3.587764  3.587764  3.587764  3.587764   \n",
       "\n",
       "   rating  \n",
       "0       5  \n",
       "1       4  \n",
       "2       3  \n",
       "3       4  "
      ]
     },
     "execution_count": 63,
     "metadata": {},
     "output_type": "execute_result"
    }
   ],
   "source": [
    "reg_test_df = pd.read_csv('archive/reg_test.csv', names = ['user', 'movie', 'GAvg', 'sur1', 'sur2', 'sur3', 'sur4', 'sur5',\n",
    "                                                          'smr1', 'smr2', 'smr3', 'smr4', 'smr5',\n",
    "                                                          'UAvg', 'MAvg', 'rating'], header=None)\n",
    "reg_test_df.head(4)"
   ]
  },
  {
   "cell_type": "code",
   "execution_count": 64,
   "metadata": {},
   "outputs": [],
   "source": [
    "reader = Reader(rating_scale=(1,5))\n",
    "\n",
    "#Creating the traindata from the dataframe\n",
    "train_data = Dataset.load_from_df(reg_train[['user', 'movie', 'rating']], reader)\n",
    "\n",
    "#Building the trainset from traindata\n",
    "trainset = train_data.build_full_trainset()"
   ]
  },
  {
   "cell_type": "code",
   "execution_count": 65,
   "metadata": {},
   "outputs": [
    {
     "data": {
      "text/plain": [
       "[(808635, 71, 5), (941866, 71, 4), (1737912, 71, 3)]"
      ]
     },
     "execution_count": 65,
     "metadata": {},
     "output_type": "execute_result"
    }
   ],
   "source": [
    "testset = list(zip(reg_test_df.user.values, reg_test_df.movie.values, reg_test_df.rating.values))\n",
    "testset[:3]"
   ]
  },
  {
   "cell_type": "code",
   "execution_count": 66,
   "metadata": {},
   "outputs": [
    {
     "data": {
      "text/plain": [
       "({}, {})"
      ]
     },
     "execution_count": 66,
     "metadata": {},
     "output_type": "execute_result"
    }
   ],
   "source": [
    "models_evaluation_train = dict()\n",
    "models_evaluation_test = dict()\n",
    "\n",
    "models_evaluation_train, models_evaluation_test"
   ]
  },
  {
   "cell_type": "code",
   "execution_count": 67,
   "metadata": {},
   "outputs": [],
   "source": [
    "#Calculating rmse and mape given actual and predicted ratings\n",
    "def get_error_metrics(y_true, y_pred):\n",
    "    rmse = np.sqrt(np.mean([ (y_true[i] - y_pred[i])**2 for i in range(len(y_pred)) ]))\n",
    "    mape = np.mean(np.abs( (y_true - y_pred)/y_true )) * 100\n",
    "    return rmse, mape\n",
    "\n",
    "\n",
    "\n",
    "def run_xgboost(algo,  x_train, y_train, x_test, y_test, verbose=True):\n",
    "\n",
    "    train_results = {}\n",
    "    test_results = {}\n",
    "    \n",
    "    \n",
    "    #Fit the model\n",
    "    print('Training the model.')\n",
    "    start = datetime.now()\n",
    "    algo.fit(x_train, y_train, eval_metric = 'rmse')\n",
    "    print('Training completed. Time taken : {}\\n'.format(datetime.now()-start))\n",
    "    \n",
    "    #Getting the predictions from the model\n",
    "    print('Evaluating the model with TRAIN data.')\n",
    "    start = datetime.now()\n",
    "    y_train_prediction = algo.predict(x_train)\n",
    "    #Getting the rmse and mape of train data\n",
    "    rmse_train, mape_train = get_error_metrics(y_train.values, y_train_prediction)\n",
    "    \n",
    "    #Storing the results in train_results\n",
    "    train_results = {'rmse': rmse_train,\n",
    "                    'mape' : mape_train,\n",
    "                    'predictions' : y_train_prediction}\n",
    "    \n",
    "\n",
    "    print('Evaluating Test data')\n",
    "    y_test_pred = algo.predict(x_test) \n",
    "    rmse_test, mape_test = get_error_metrics(y_true=y_test.values, y_pred=y_test_pred)\n",
    "    # store them in our test results\n",
    "    test_results = {'rmse': rmse_test,\n",
    "                    'mape' : mape_test,\n",
    "                    'predictions':y_test_pred}\n",
    "    if verbose:\n",
    "        print('\\nTEST DATA')\n",
    "        print('-'*30)\n",
    "        print('RMSE : ', rmse_test)\n",
    "        print('MAPE : ', mape_test)\n",
    "        \n",
    "    #Returning train and test results\n",
    "    return train_results, test_results"
   ]
  },
  {
   "cell_type": "code",
   "execution_count": 68,
   "metadata": {},
   "outputs": [],
   "source": [
    "random.seed(15)\n",
    "np.random.seed(15)\n",
    "\n",
    "\n",
    "#Obtaining the actual_list and predicted_list ratings\n",
    "def get_ratings(predictions):\n",
    "    actual = np.array([pred.r_ui for pred in predictions])\n",
    "    pred = np.array([pred.est for pred in predictions])\n",
    "    \n",
    "    return actual, pred\n",
    "\n",
    "\n",
    "#Obtaining RMSE and MAPE\n",
    "\n",
    "def get_errors(predictions, print_them=False):\n",
    "\n",
    "    actual, pred = get_ratings(predictions)\n",
    "    rmse = np.sqrt(np.mean((pred - actual)**2))\n",
    "    mape = np.mean(np.abs(pred - actual)/actual)\n",
    "\n",
    "    return rmse, mape*100\n",
    "\n",
    "#It will return predicted ratings, rmse and mape of both training and testing datasets\n",
    "\n",
    "def run_surprise(algo, trainset, testset, verbose=True): \n",
    "    \n",
    "    start = datetime.now()\n",
    "    train = {}\n",
    "    test = {}\n",
    "    \n",
    "    #Training the algorithm with trainset\n",
    "    st = datetime.now()\n",
    "    print('Training the model')\n",
    "    algo.fit(trainset)\n",
    "    print('Training Completed, time taken : {} \\n'.format(datetime.now()-st))\n",
    "    \n",
    "    #Evaluating train data\n",
    "    start = datetime.now()\n",
    "    print('Evaluating the model with train data')\n",
    "    \n",
    "    train_predictions = algo.test(trainset.build_testset())\n",
    "    \n",
    "    train_actual_ratings, train_prediction_ratings = get_ratings(train_predictions)\n",
    "    \n",
    "    train_rmse, train_mape = get_errors(train_predictions)\n",
    "    print('time taken : {}'.format(datetime.now()-start))\n",
    "    \n",
    "    if verbose:\n",
    "        print('-'*15)\n",
    "        print('Train Data')\n",
    "        print('-'*15)\n",
    "        print(\"RMSE : {}\\n\\nMAPE : {}\\n\".format(train_rmse, train_mape))\n",
    "    \n",
    "    #Storing them in 'train'\n",
    "    if verbose:\n",
    "        train['rmse'] = train_rmse\n",
    "        train['mape'] = train_mape\n",
    "        train['predictions'] = train_prediction_ratings\n",
    "\n",
    "    #Evaluating Test data\n",
    "    start = datetime.now()\n",
    "    print('Evaluating for test dataset')\n",
    "    #Get the predictions of test data\n",
    "    test_preds = algo.test(testset)\n",
    "    #Get the predicted ratings from the list of predictions\n",
    "    test_actual_ratings, test_pred_ratings = get_ratings(test_preds)\n",
    "    #Get error metrics from the predicted and actual ratings\n",
    "    test_rmse, test_mape = get_errors(test_preds)\n",
    "    print('time taken : {}'.format(datetime.now()-start))\n",
    "    \n",
    "    if verbose:\n",
    "        print('-'*15)\n",
    "        print('Test Data')\n",
    "        print('-'*15)\n",
    "        print(\"RMSE : {}\\n\\nMAPE : {}\\n\".format(test_rmse, test_mape))\n",
    "    # store them in test dictionary\n",
    "    if verbose:\n",
    "        print('storing the test results in test dictionary...')\n",
    "    test['rmse'] = test_rmse\n",
    "    test['mape'] = test_mape\n",
    "    test['predictions'] = test_pred_ratings\n",
    "    \n",
    "    print('\\n'+'-'*45)\n",
    "    print('Total time taken to run this algorithm :', datetime.now() - start)\n",
    "    \n",
    "    # return two dictionaries train and test\n",
    "    return train, test"
   ]
  },
  {
   "cell_type": "code",
   "execution_count": 69,
   "metadata": {},
   "outputs": [],
   "source": [
    "#4.4.1 XGBoost with initial 13 features"
   ]
  },
  {
   "cell_type": "code",
   "execution_count": 70,
   "metadata": {},
   "outputs": [
    {
     "name": "stdout",
     "output_type": "stream",
     "text": [
      "Training the model.\n",
      "[02:11:37] WARNING: C:\\Users\\Administrator\\workspace\\xgboost-win64_release_1.2.0\\src\\learner.cc:516: \n",
      "Parameters: { silent } might not be used.\n",
      "\n",
      "  This may not be accurate due to some parameters are only used in language bindings but\n",
      "  passed down to XGBoost core.  Or some parameters are not used but slip through this\n",
      "  verification. Please open an issue if you find above cases.\n",
      "\n",
      "\n",
      "Training completed. Time taken : 0:00:01.619222\n",
      "\n",
      "Evaluating the model with TRAIN data.\n",
      "Evaluating Test data\n",
      "\n",
      "TEST DATA\n",
      "------------------------------\n",
      "RMSE :  1.0983414903969977\n",
      "MAPE :  34.6066920514577\n"
     ]
    },
    {
     "data": {
      "image/png": "[encoded data removed]",
      "text/plain": [
       "<Figure size 432x288 with 1 Axes>"
      ]
     },
     "metadata": {
      "needs_background": "light"
     },
     "output_type": "display_data"
    }
   ],
   "source": [
    "# prepare Train data\n",
    "x_train = reg_train.drop(['user','movie','rating'], axis=1)\n",
    "y_train = reg_train['rating']\n",
    "\n",
    "# Prepare Test data\n",
    "x_test = reg_test_df.drop(['user','movie','rating'], axis=1)\n",
    "y_test = reg_test_df['rating']\n",
    "\n",
    "# initialize Our first XGBoost model...\n",
    "first_xgb = xgb.XGBRegressor(silent=False, n_jobs=13, random_state=15, n_estimators=100)\n",
    "train_results, test_results = run_xgboost(first_xgb, x_train, y_train, x_test, y_test)\n",
    "\n",
    "# store the results in models_evaluations dictionaries\n",
    "models_evaluation_train['XGB'] = train_results\n",
    "models_evaluation_test['XGB'] = test_results\n",
    "\n",
    "xgb.plot_importance(first_xgb)\n",
    "plt.show()"
   ]
  },
  {
   "cell_type": "code",
   "execution_count": 71,
   "metadata": {},
   "outputs": [],
   "source": [
    "#4.4.2 Suprise BaselineModel"
   ]
  },
  {
   "cell_type": "code",
   "execution_count": 72,
   "metadata": {},
   "outputs": [
    {
     "name": "stdout",
     "output_type": "stream",
     "text": [
      "Training the model\n",
      "Estimating biases using sgd...\n",
      "Training Completed, time taken : 0:00:00.202458 \n",
      "\n",
      "Evaluating the model with train data\n",
      "time taken : 0:00:00.338777\n",
      "---------------\n",
      "Train Data\n",
      "---------------\n",
      "RMSE : 0.9510202022117997\n",
      "\n",
      "MAPE : 30.090540953428242\n",
      "\n",
      "Evaluating for test dataset\n",
      "time taken : 0:00:00.020943\n",
      "---------------\n",
      "Test Data\n",
      "---------------\n",
      "RMSE : 1.0829335919531395\n",
      "\n",
      "MAPE : 36.4621422879574\n",
      "\n",
      "storing the test results in test dictionary...\n",
      "\n",
      "---------------------------------------------\n",
      "Total time taken to run this algorithm : 0:00:00.020943\n"
     ]
    }
   ],
   "source": [
    "# options are to specify.., how to compute those user and item biases\n",
    "bsl_options = {'method': 'sgd',\n",
    "               'learning_rate': .001\n",
    "               }\n",
    "bsl_algo = BaselineOnly(bsl_options=bsl_options)\n",
    "# run this algorithm.., It will return the train and test results..\n",
    "bsl_train_results, bsl_test_results = run_surprise(bsl_algo, trainset, testset, verbose=True)\n",
    "\n",
    "\n",
    "# Just store these error metrics in our models_evaluation datastructure\n",
    "models_evaluation_train['bsl_algo'] = bsl_train_results \n",
    "models_evaluation_test['bsl_algo'] = bsl_test_results"
   ]
  },
  {
   "cell_type": "code",
   "execution_count": 73,
   "metadata": {},
   "outputs": [],
   "source": [
    "#4.4.3 XGBoost with initial 13 features + Surprise Baseline predictor"
   ]
  },
  {
   "cell_type": "code",
   "execution_count": 74,
   "metadata": {},
   "outputs": [],
   "source": [
    "#Updating Train Data"
   ]
  },
  {
   "cell_type": "code",
   "execution_count": 75,
   "metadata": {},
   "outputs": [
    {
     "data": {
      "text/html": [
       "<div>\n",
       "<style scoped>\n",
       "    .dataframe tbody tr th:only-of-type {\n",
       "        vertical-align: middle;\n",
       "    }\n",
       "\n",
       "    .dataframe tbody tr th {\n",
       "        vertical-align: top;\n",
       "    }\n",
       "\n",
       "    .dataframe thead th {\n",
       "        text-align: right;\n",
       "    }\n",
       "</style>\n",
       "<table border=\"1\" class=\"dataframe\">\n",
       "  <thead>\n",
       "    <tr style=\"text-align: right;\">\n",
       "      <th></th>\n",
       "      <th>user</th>\n",
       "      <th>movie</th>\n",
       "      <th>GAvg</th>\n",
       "      <th>sur1</th>\n",
       "      <th>sur2</th>\n",
       "      <th>sur3</th>\n",
       "      <th>sur4</th>\n",
       "      <th>sur5</th>\n",
       "      <th>smr1</th>\n",
       "      <th>smr2</th>\n",
       "      <th>smr3</th>\n",
       "      <th>smr4</th>\n",
       "      <th>smr5</th>\n",
       "      <th>UAvg</th>\n",
       "      <th>MAvg</th>\n",
       "      <th>rating</th>\n",
       "      <th>bslpr</th>\n",
       "    </tr>\n",
       "  </thead>\n",
       "  <tbody>\n",
       "    <tr>\n",
       "      <th>0</th>\n",
       "      <td>53406</td>\n",
       "      <td>33</td>\n",
       "      <td>3.587764</td>\n",
       "      <td>5.0</td>\n",
       "      <td>3.0</td>\n",
       "      <td>4.0</td>\n",
       "      <td>4.0</td>\n",
       "      <td>5.0</td>\n",
       "      <td>5.0</td>\n",
       "      <td>2.0</td>\n",
       "      <td>3.0</td>\n",
       "      <td>1.0</td>\n",
       "      <td>3.0</td>\n",
       "      <td>3.342857</td>\n",
       "      <td>4.119403</td>\n",
       "      <td>4</td>\n",
       "      <td>3.846983</td>\n",
       "    </tr>\n",
       "    <tr>\n",
       "      <th>1</th>\n",
       "      <td>99865</td>\n",
       "      <td>33</td>\n",
       "      <td>3.587764</td>\n",
       "      <td>3.0</td>\n",
       "      <td>5.0</td>\n",
       "      <td>5.0</td>\n",
       "      <td>4.0</td>\n",
       "      <td>5.0</td>\n",
       "      <td>5.0</td>\n",
       "      <td>4.0</td>\n",
       "      <td>5.0</td>\n",
       "      <td>5.0</td>\n",
       "      <td>4.0</td>\n",
       "      <td>3.842105</td>\n",
       "      <td>4.119403</td>\n",
       "      <td>5</td>\n",
       "      <td>3.374390</td>\n",
       "    </tr>\n",
       "  </tbody>\n",
       "</table>\n",
       "</div>"
      ],
      "text/plain": [
       "    user  movie      GAvg  sur1  sur2  sur3  sur4  sur5  smr1  smr2  smr3  \\\n",
       "0  53406     33  3.587764   5.0   3.0   4.0   4.0   5.0   5.0   2.0   3.0   \n",
       "1  99865     33  3.587764   3.0   5.0   5.0   4.0   5.0   5.0   4.0   5.0   \n",
       "\n",
       "   smr4  smr5      UAvg      MAvg  rating     bslpr  \n",
       "0   1.0   3.0  3.342857  4.119403       4  3.846983  \n",
       "1   5.0   4.0  3.842105  4.119403       5  3.374390  "
      ]
     },
     "execution_count": 75,
     "metadata": {},
     "output_type": "execute_result"
    }
   ],
   "source": [
    "# add our baseline_predicted value as our feature..\n",
    "reg_train['bslpr'] = models_evaluation_train['bsl_algo']['predictions']\n",
    "reg_train.head(2)"
   ]
  },
  {
   "cell_type": "code",
   "execution_count": 76,
   "metadata": {},
   "outputs": [],
   "source": [
    "#Updating Test Data"
   ]
  },
  {
   "cell_type": "code",
   "execution_count": 77,
   "metadata": {},
   "outputs": [
    {
     "data": {
      "text/html": [
       "<div>\n",
       "<style scoped>\n",
       "    .dataframe tbody tr th:only-of-type {\n",
       "        vertical-align: middle;\n",
       "    }\n",
       "\n",
       "    .dataframe tbody tr th {\n",
       "        vertical-align: top;\n",
       "    }\n",
       "\n",
       "    .dataframe thead th {\n",
       "        text-align: right;\n",
       "    }\n",
       "</style>\n",
       "<table border=\"1\" class=\"dataframe\">\n",
       "  <thead>\n",
       "    <tr style=\"text-align: right;\">\n",
       "      <th></th>\n",
       "      <th>user</th>\n",
       "      <th>movie</th>\n",
       "      <th>GAvg</th>\n",
       "      <th>sur1</th>\n",
       "      <th>sur2</th>\n",
       "      <th>sur3</th>\n",
       "      <th>sur4</th>\n",
       "      <th>sur5</th>\n",
       "      <th>smr1</th>\n",
       "      <th>smr2</th>\n",
       "      <th>smr3</th>\n",
       "      <th>smr4</th>\n",
       "      <th>smr5</th>\n",
       "      <th>UAvg</th>\n",
       "      <th>MAvg</th>\n",
       "      <th>rating</th>\n",
       "      <th>bslpr</th>\n",
       "    </tr>\n",
       "  </thead>\n",
       "  <tbody>\n",
       "    <tr>\n",
       "      <th>0</th>\n",
       "      <td>808635</td>\n",
       "      <td>71</td>\n",
       "      <td>3.587764</td>\n",
       "      <td>3.587764</td>\n",
       "      <td>3.587764</td>\n",
       "      <td>3.587764</td>\n",
       "      <td>3.587764</td>\n",
       "      <td>3.587764</td>\n",
       "      <td>3.587764</td>\n",
       "      <td>3.587764</td>\n",
       "      <td>3.587764</td>\n",
       "      <td>3.587764</td>\n",
       "      <td>3.587764</td>\n",
       "      <td>3.587764</td>\n",
       "      <td>3.587764</td>\n",
       "      <td>5</td>\n",
       "      <td>3.587764</td>\n",
       "    </tr>\n",
       "    <tr>\n",
       "      <th>1</th>\n",
       "      <td>941866</td>\n",
       "      <td>71</td>\n",
       "      <td>3.587764</td>\n",
       "      <td>3.587764</td>\n",
       "      <td>3.587764</td>\n",
       "      <td>3.587764</td>\n",
       "      <td>3.587764</td>\n",
       "      <td>3.587764</td>\n",
       "      <td>3.587764</td>\n",
       "      <td>3.587764</td>\n",
       "      <td>3.587764</td>\n",
       "      <td>3.587764</td>\n",
       "      <td>3.587764</td>\n",
       "      <td>3.587764</td>\n",
       "      <td>3.587764</td>\n",
       "      <td>4</td>\n",
       "      <td>3.587764</td>\n",
       "    </tr>\n",
       "  </tbody>\n",
       "</table>\n",
       "</div>"
      ],
      "text/plain": [
       "     user  movie      GAvg      sur1      sur2      sur3      sur4      sur5  \\\n",
       "0  808635     71  3.587764  3.587764  3.587764  3.587764  3.587764  3.587764   \n",
       "1  941866     71  3.587764  3.587764  3.587764  3.587764  3.587764  3.587764   \n",
       "\n",
       "       smr1      smr2      smr3      smr4      smr5      UAvg      MAvg  \\\n",
       "0  3.587764  3.587764  3.587764  3.587764  3.587764  3.587764  3.587764   \n",
       "1  3.587764  3.587764  3.587764  3.587764  3.587764  3.587764  3.587764   \n",
       "\n",
       "   rating     bslpr  \n",
       "0       5  3.587764  \n",
       "1       4  3.587764  "
      ]
     },
     "execution_count": 77,
     "metadata": {},
     "output_type": "execute_result"
    }
   ],
   "source": [
    "# add that baseline predicted ratings with Surprise to the test data as well\n",
    "reg_test_df['bslpr']  = models_evaluation_test['bsl_algo']['predictions']\n",
    "\n",
    "reg_test_df.head(2)"
   ]
  },
  {
   "cell_type": "code",
   "execution_count": 78,
   "metadata": {},
   "outputs": [
    {
     "name": "stdout",
     "output_type": "stream",
     "text": [
      "Training the model.\n",
      "[02:11:40] WARNING: C:\\Users\\Administrator\\workspace\\xgboost-win64_release_1.2.0\\src\\learner.cc:516: \n",
      "Parameters: { silent } might not be used.\n",
      "\n",
      "  This may not be accurate due to some parameters are only used in language bindings but\n",
      "  passed down to XGBoost core.  Or some parameters are not used but slip through this\n",
      "  verification. Please open an issue if you find above cases.\n",
      "\n",
      "\n",
      "Training completed. Time taken : 0:00:02.313809\n",
      "\n",
      "Evaluating the model with TRAIN data.\n",
      "Evaluating Test data\n",
      "\n",
      "TEST DATA\n",
      "------------------------------\n",
      "RMSE :  1.127705579406932\n",
      "MAPE :  33.56068159478481\n"
     ]
    },
    {
     "data": {
      "image/png": "[encoded data removed]",
      "text/plain": [
       "<Figure size 432x288 with 1 Axes>"
      ]
     },
     "metadata": {
      "needs_background": "light"
     },
     "output_type": "display_data"
    }
   ],
   "source": [
    "# prepare train data\n",
    "x_train = reg_train.drop(['user', 'movie','rating'], axis=1)\n",
    "y_train = reg_train['rating']\n",
    "\n",
    "# Prepare Test data\n",
    "x_test = reg_test_df.drop(['user','movie','rating'], axis=1)\n",
    "y_test = reg_test_df['rating']\n",
    "\n",
    "# initialize Our first XGBoost model...\n",
    "xgb_bsl = xgb.XGBRegressor(silent=False, n_jobs=13, random_state=15, n_estimators=100)\n",
    "train_results, test_results = run_xgboost(xgb_bsl, x_train, y_train, x_test, y_test)\n",
    "\n",
    "# store the results in models_evaluations dictionaries\n",
    "models_evaluation_train['xgb_bsl'] = train_results\n",
    "models_evaluation_test['xgb_bsl'] = test_results\n",
    "\n",
    "xgb.plot_importance(xgb_bsl)\n",
    "plt.show()"
   ]
  },
  {
   "cell_type": "code",
   "execution_count": 79,
   "metadata": {},
   "outputs": [],
   "source": [
    "#4.4.4 Surprise SlopeOne predictor"
   ]
  },
  {
   "cell_type": "code",
   "execution_count": 80,
   "metadata": {},
   "outputs": [
    {
     "name": "stdout",
     "output_type": "stream",
     "text": [
      "Training the model\n",
      "Training Completed, time taken : 0:00:00.080392 \n",
      "\n",
      "Evaluating the model with train data\n",
      "time taken : 0:00:00.864862\n",
      "---------------\n",
      "Train Data\n",
      "---------------\n",
      "RMSE : 0.8050724462176874\n",
      "\n",
      "MAPE : 23.547939022142387\n",
      "\n",
      "Evaluating for test dataset\n",
      "time taken : 0:00:00.024360\n",
      "---------------\n",
      "Test Data\n",
      "---------------\n",
      "RMSE : 1.0852024439055872\n",
      "\n",
      "MAPE : 36.584963942219105\n",
      "\n",
      "storing the test results in test dictionary...\n",
      "\n",
      "---------------------------------------------\n",
      "Total time taken to run this algorithm : 0:00:00.024360\n"
     ]
    }
   ],
   "source": [
    "# we specify , how to compute similarities and what to consider with sim_options to our algorithm\n",
    "\n",
    "slpOne_bsl = SlopeOne()\n",
    "slpOne_bsl_train_results, slpOne_bsl_test_results = run_surprise(slpOne_bsl, trainset, testset, verbose=True)\n",
    "\n",
    "# Just store these error metrics in our models_evaluation datastructure\n",
    "models_evaluation_train['slpOne_bsl'] = slpOne_bsl_train_results \n",
    "models_evaluation_test['slpOne_bsl'] = slpOne_bsl_test_results"
   ]
  },
  {
   "cell_type": "code",
   "execution_count": 81,
   "metadata": {},
   "outputs": [],
   "source": [
    "#4.4.4.2 Surprise CoClustering predictor"
   ]
  },
  {
   "cell_type": "code",
   "execution_count": 82,
   "metadata": {},
   "outputs": [
    {
     "name": "stdout",
     "output_type": "stream",
     "text": [
      "Training the model\n",
      "Training Completed, time taken : 0:00:01.171053 \n",
      "\n",
      "Evaluating the model with train data\n",
      "time taken : 0:00:00.318209\n",
      "---------------\n",
      "Train Data\n",
      "---------------\n",
      "RMSE : 0.8271595113395926\n",
      "\n",
      "MAPE : 23.967280254188957\n",
      "\n",
      "Evaluating for test dataset\n",
      "time taken : 0:00:00.024933\n",
      "---------------\n",
      "Test Data\n",
      "---------------\n",
      "RMSE : 1.0853023145214524\n",
      "\n",
      "MAPE : 36.5847967119654\n",
      "\n",
      "storing the test results in test dictionary...\n",
      "\n",
      "---------------------------------------------\n",
      "Total time taken to run this algorithm : 0:00:00.024933\n"
     ]
    }
   ],
   "source": [
    "# we specify , how to compute similarities and what to consider with sim_options to our algorithm\n",
    "\n",
    "cC_bsl = CoClustering()\n",
    "cC_bsl_train_results, cC_bsl_test_results = run_surprise(cC_bsl, trainset, testset, verbose=True)\n",
    "\n",
    "# Just store these error metrics in our models_evaluation datastructure\n",
    "models_evaluation_train['cC_bsl'] = cC_bsl_train_results \n",
    "models_evaluation_test['cC_bsl'] = cC_bsl_test_results"
   ]
  },
  {
   "cell_type": "code",
   "execution_count": 83,
   "metadata": {},
   "outputs": [],
   "source": [
    "#Preparing Train data"
   ]
  },
  {
   "cell_type": "code",
   "execution_count": 84,
   "metadata": {},
   "outputs": [
    {
     "data": {
      "text/html": [
       "<div>\n",
       "<style scoped>\n",
       "    .dataframe tbody tr th:only-of-type {\n",
       "        vertical-align: middle;\n",
       "    }\n",
       "\n",
       "    .dataframe tbody tr th {\n",
       "        vertical-align: top;\n",
       "    }\n",
       "\n",
       "    .dataframe thead th {\n",
       "        text-align: right;\n",
       "    }\n",
       "</style>\n",
       "<table border=\"1\" class=\"dataframe\">\n",
       "  <thead>\n",
       "    <tr style=\"text-align: right;\">\n",
       "      <th></th>\n",
       "      <th>user</th>\n",
       "      <th>movie</th>\n",
       "      <th>GAvg</th>\n",
       "      <th>sur1</th>\n",
       "      <th>sur2</th>\n",
       "      <th>sur3</th>\n",
       "      <th>sur4</th>\n",
       "      <th>sur5</th>\n",
       "      <th>smr1</th>\n",
       "      <th>smr2</th>\n",
       "      <th>smr3</th>\n",
       "      <th>smr4</th>\n",
       "      <th>smr5</th>\n",
       "      <th>UAvg</th>\n",
       "      <th>MAvg</th>\n",
       "      <th>rating</th>\n",
       "      <th>bslpr</th>\n",
       "      <th>slpOne_bsl</th>\n",
       "    </tr>\n",
       "  </thead>\n",
       "  <tbody>\n",
       "    <tr>\n",
       "      <th>0</th>\n",
       "      <td>53406</td>\n",
       "      <td>33</td>\n",
       "      <td>3.587764</td>\n",
       "      <td>5.0</td>\n",
       "      <td>3.0</td>\n",
       "      <td>4.0</td>\n",
       "      <td>4.0</td>\n",
       "      <td>5.0</td>\n",
       "      <td>5.0</td>\n",
       "      <td>2.0</td>\n",
       "      <td>3.0</td>\n",
       "      <td>1.0</td>\n",
       "      <td>3.0</td>\n",
       "      <td>3.342857</td>\n",
       "      <td>4.119403</td>\n",
       "      <td>4</td>\n",
       "      <td>3.846983</td>\n",
       "      <td>3.884264</td>\n",
       "    </tr>\n",
       "    <tr>\n",
       "      <th>1</th>\n",
       "      <td>99865</td>\n",
       "      <td>33</td>\n",
       "      <td>3.587764</td>\n",
       "      <td>3.0</td>\n",
       "      <td>5.0</td>\n",
       "      <td>5.0</td>\n",
       "      <td>4.0</td>\n",
       "      <td>5.0</td>\n",
       "      <td>5.0</td>\n",
       "      <td>4.0</td>\n",
       "      <td>5.0</td>\n",
       "      <td>5.0</td>\n",
       "      <td>4.0</td>\n",
       "      <td>3.842105</td>\n",
       "      <td>4.119403</td>\n",
       "      <td>5</td>\n",
       "      <td>3.374390</td>\n",
       "      <td>3.438223</td>\n",
       "    </tr>\n",
       "  </tbody>\n",
       "</table>\n",
       "</div>"
      ],
      "text/plain": [
       "    user  movie      GAvg  sur1  sur2  sur3  sur4  sur5  smr1  smr2  smr3  \\\n",
       "0  53406     33  3.587764   5.0   3.0   4.0   4.0   5.0   5.0   2.0   3.0   \n",
       "1  99865     33  3.587764   3.0   5.0   5.0   4.0   5.0   5.0   4.0   5.0   \n",
       "\n",
       "   smr4  smr5      UAvg      MAvg  rating     bslpr  slpOne_bsl  \n",
       "0   1.0   3.0  3.342857  4.119403       4  3.846983    3.884264  \n",
       "1   5.0   4.0  3.842105  4.119403       5  3.374390    3.438223  "
      ]
     },
     "execution_count": 84,
     "metadata": {},
     "output_type": "execute_result"
    }
   ],
   "source": [
    "# add the predicted values from both knns to this dataframe\n",
    "reg_train['slpOne_bsl'] = models_evaluation_train['slpOne_bsl']['predictions']\n",
    "\n",
    "reg_train.head(2)"
   ]
  },
  {
   "cell_type": "code",
   "execution_count": 85,
   "metadata": {},
   "outputs": [
    {
     "data": {
      "text/html": [
       "<div>\n",
       "<style scoped>\n",
       "    .dataframe tbody tr th:only-of-type {\n",
       "        vertical-align: middle;\n",
       "    }\n",
       "\n",
       "    .dataframe tbody tr th {\n",
       "        vertical-align: top;\n",
       "    }\n",
       "\n",
       "    .dataframe thead th {\n",
       "        text-align: right;\n",
       "    }\n",
       "</style>\n",
       "<table border=\"1\" class=\"dataframe\">\n",
       "  <thead>\n",
       "    <tr style=\"text-align: right;\">\n",
       "      <th></th>\n",
       "      <th>user</th>\n",
       "      <th>movie</th>\n",
       "      <th>GAvg</th>\n",
       "      <th>sur1</th>\n",
       "      <th>sur2</th>\n",
       "      <th>sur3</th>\n",
       "      <th>sur4</th>\n",
       "      <th>sur5</th>\n",
       "      <th>smr1</th>\n",
       "      <th>smr2</th>\n",
       "      <th>smr3</th>\n",
       "      <th>smr4</th>\n",
       "      <th>smr5</th>\n",
       "      <th>UAvg</th>\n",
       "      <th>MAvg</th>\n",
       "      <th>rating</th>\n",
       "      <th>bslpr</th>\n",
       "      <th>slpOne_bsl</th>\n",
       "    </tr>\n",
       "  </thead>\n",
       "  <tbody>\n",
       "    <tr>\n",
       "      <th>0</th>\n",
       "      <td>808635</td>\n",
       "      <td>71</td>\n",
       "      <td>3.587764</td>\n",
       "      <td>3.587764</td>\n",
       "      <td>3.587764</td>\n",
       "      <td>3.587764</td>\n",
       "      <td>3.587764</td>\n",
       "      <td>3.587764</td>\n",
       "      <td>3.587764</td>\n",
       "      <td>3.587764</td>\n",
       "      <td>3.587764</td>\n",
       "      <td>3.587764</td>\n",
       "      <td>3.587764</td>\n",
       "      <td>3.587764</td>\n",
       "      <td>3.587764</td>\n",
       "      <td>5</td>\n",
       "      <td>3.587764</td>\n",
       "      <td>3.587764</td>\n",
       "    </tr>\n",
       "    <tr>\n",
       "      <th>1</th>\n",
       "      <td>941866</td>\n",
       "      <td>71</td>\n",
       "      <td>3.587764</td>\n",
       "      <td>3.587764</td>\n",
       "      <td>3.587764</td>\n",
       "      <td>3.587764</td>\n",
       "      <td>3.587764</td>\n",
       "      <td>3.587764</td>\n",
       "      <td>3.587764</td>\n",
       "      <td>3.587764</td>\n",
       "      <td>3.587764</td>\n",
       "      <td>3.587764</td>\n",
       "      <td>3.587764</td>\n",
       "      <td>3.587764</td>\n",
       "      <td>3.587764</td>\n",
       "      <td>4</td>\n",
       "      <td>3.587764</td>\n",
       "      <td>3.587764</td>\n",
       "    </tr>\n",
       "  </tbody>\n",
       "</table>\n",
       "</div>"
      ],
      "text/plain": [
       "     user  movie      GAvg      sur1      sur2      sur3      sur4      sur5  \\\n",
       "0  808635     71  3.587764  3.587764  3.587764  3.587764  3.587764  3.587764   \n",
       "1  941866     71  3.587764  3.587764  3.587764  3.587764  3.587764  3.587764   \n",
       "\n",
       "       smr1      smr2      smr3      smr4      smr5      UAvg      MAvg  \\\n",
       "0  3.587764  3.587764  3.587764  3.587764  3.587764  3.587764  3.587764   \n",
       "1  3.587764  3.587764  3.587764  3.587764  3.587764  3.587764  3.587764   \n",
       "\n",
       "   rating     bslpr  slpOne_bsl  \n",
       "0       5  3.587764    3.587764  \n",
       "1       4  3.587764    3.587764  "
      ]
     },
     "execution_count": 85,
     "metadata": {},
     "output_type": "execute_result"
    }
   ],
   "source": [
    "reg_test_df['slpOne_bsl'] = models_evaluation_test['slpOne_bsl']['predictions']\n",
    "\n",
    "reg_test_df.head(2)"
   ]
  },
  {
   "cell_type": "code",
   "execution_count": 86,
   "metadata": {},
   "outputs": [
    {
     "name": "stdout",
     "output_type": "stream",
     "text": [
      "Training the model.\n",
      "Training completed. Time taken : 0:00:02.101377\n",
      "\n",
      "Evaluating the model with TRAIN data.\n",
      "Evaluating Test data\n",
      "\n",
      "TEST DATA\n",
      "------------------------------\n",
      "RMSE :  1.0883343056251564\n",
      "MAPE :  35.173606053249316\n"
     ]
    },
    {
     "data": {
      "image/png": "[encoded data removed]",
      "text/plain": [
       "<Figure size 432x288 with 1 Axes>"
      ]
     },
     "metadata": {
      "needs_background": "light"
     },
     "output_type": "display_data"
    }
   ],
   "source": [
    "# prepare the train data....\n",
    "x_train = reg_train.drop(['user', 'movie', 'rating'], axis=1)\n",
    "y_train = reg_train['rating']\n",
    "\n",
    "# prepare the train data....\n",
    "x_test = reg_test_df.drop(['user','movie','rating'], axis=1)\n",
    "y_test = reg_test_df['rating']\n",
    "\n",
    "# declare the model\n",
    "xgb_knn_bsl = xgb.XGBRegressor(n_jobs=10, random_state=15)\n",
    "train_results, test_results = run_xgboost(xgb_knn_bsl, x_train, y_train, x_test, y_test)\n",
    "\n",
    "# store the results in models_evaluations dictionaries\n",
    "models_evaluation_train['xgb_slpOne_bsl'] = train_results\n",
    "models_evaluation_test['xgb_slpOne_bsl'] = test_results\n",
    "\n",
    "\n",
    "xgb.plot_importance(xgb_knn_bsl)\n",
    "plt.show()"
   ]
  },
  {
   "cell_type": "code",
   "execution_count": 87,
   "metadata": {},
   "outputs": [
    {
     "data": {
      "text/html": [
       "<div>\n",
       "<style scoped>\n",
       "    .dataframe tbody tr th:only-of-type {\n",
       "        vertical-align: middle;\n",
       "    }\n",
       "\n",
       "    .dataframe tbody tr th {\n",
       "        vertical-align: top;\n",
       "    }\n",
       "\n",
       "    .dataframe thead th {\n",
       "        text-align: right;\n",
       "    }\n",
       "</style>\n",
       "<table border=\"1\" class=\"dataframe\">\n",
       "  <thead>\n",
       "    <tr style=\"text-align: right;\">\n",
       "      <th></th>\n",
       "      <th>user</th>\n",
       "      <th>movie</th>\n",
       "      <th>GAvg</th>\n",
       "      <th>sur1</th>\n",
       "      <th>sur2</th>\n",
       "      <th>sur3</th>\n",
       "      <th>sur4</th>\n",
       "      <th>sur5</th>\n",
       "      <th>smr1</th>\n",
       "      <th>smr2</th>\n",
       "      <th>smr3</th>\n",
       "      <th>smr4</th>\n",
       "      <th>smr5</th>\n",
       "      <th>UAvg</th>\n",
       "      <th>MAvg</th>\n",
       "      <th>rating</th>\n",
       "      <th>bslpr</th>\n",
       "      <th>slpOne_bsl</th>\n",
       "      <th>cC_bsl</th>\n",
       "    </tr>\n",
       "  </thead>\n",
       "  <tbody>\n",
       "    <tr>\n",
       "      <th>0</th>\n",
       "      <td>53406</td>\n",
       "      <td>33</td>\n",
       "      <td>3.587764</td>\n",
       "      <td>5.0</td>\n",
       "      <td>3.0</td>\n",
       "      <td>4.0</td>\n",
       "      <td>4.0</td>\n",
       "      <td>5.0</td>\n",
       "      <td>5.0</td>\n",
       "      <td>2.0</td>\n",
       "      <td>3.0</td>\n",
       "      <td>1.0</td>\n",
       "      <td>3.0</td>\n",
       "      <td>3.342857</td>\n",
       "      <td>4.119403</td>\n",
       "      <td>4</td>\n",
       "      <td>3.846983</td>\n",
       "      <td>3.884264</td>\n",
       "      <td>3.540432</td>\n",
       "    </tr>\n",
       "    <tr>\n",
       "      <th>1</th>\n",
       "      <td>99865</td>\n",
       "      <td>33</td>\n",
       "      <td>3.587764</td>\n",
       "      <td>3.0</td>\n",
       "      <td>5.0</td>\n",
       "      <td>5.0</td>\n",
       "      <td>4.0</td>\n",
       "      <td>5.0</td>\n",
       "      <td>5.0</td>\n",
       "      <td>4.0</td>\n",
       "      <td>5.0</td>\n",
       "      <td>5.0</td>\n",
       "      <td>4.0</td>\n",
       "      <td>3.842105</td>\n",
       "      <td>4.119403</td>\n",
       "      <td>5</td>\n",
       "      <td>3.374390</td>\n",
       "      <td>3.438223</td>\n",
       "      <td>3.164940</td>\n",
       "    </tr>\n",
       "  </tbody>\n",
       "</table>\n",
       "</div>"
      ],
      "text/plain": [
       "    user  movie      GAvg  sur1  sur2  sur3  sur4  sur5  smr1  smr2  smr3  \\\n",
       "0  53406     33  3.587764   5.0   3.0   4.0   4.0   5.0   5.0   2.0   3.0   \n",
       "1  99865     33  3.587764   3.0   5.0   5.0   4.0   5.0   5.0   4.0   5.0   \n",
       "\n",
       "   smr4  smr5      UAvg      MAvg  rating     bslpr  slpOne_bsl    cC_bsl  \n",
       "0   1.0   3.0  3.342857  4.119403       4  3.846983    3.884264  3.540432  \n",
       "1   5.0   4.0  3.842105  4.119403       5  3.374390    3.438223  3.164940  "
      ]
     },
     "execution_count": 87,
     "metadata": {},
     "output_type": "execute_result"
    }
   ],
   "source": [
    "# add the predicted values from both knns to this dataframe\n",
    "reg_train['cC_bsl'] = models_evaluation_train['cC_bsl']['predictions']\n",
    "\n",
    "reg_train.head(2)"
   ]
  },
  {
   "cell_type": "code",
   "execution_count": 88,
   "metadata": {},
   "outputs": [
    {
     "data": {
      "text/html": [
       "<div>\n",
       "<style scoped>\n",
       "    .dataframe tbody tr th:only-of-type {\n",
       "        vertical-align: middle;\n",
       "    }\n",
       "\n",
       "    .dataframe tbody tr th {\n",
       "        vertical-align: top;\n",
       "    }\n",
       "\n",
       "    .dataframe thead th {\n",
       "        text-align: right;\n",
       "    }\n",
       "</style>\n",
       "<table border=\"1\" class=\"dataframe\">\n",
       "  <thead>\n",
       "    <tr style=\"text-align: right;\">\n",
       "      <th></th>\n",
       "      <th>user</th>\n",
       "      <th>movie</th>\n",
       "      <th>GAvg</th>\n",
       "      <th>sur1</th>\n",
       "      <th>sur2</th>\n",
       "      <th>sur3</th>\n",
       "      <th>sur4</th>\n",
       "      <th>sur5</th>\n",
       "      <th>smr1</th>\n",
       "      <th>smr2</th>\n",
       "      <th>smr3</th>\n",
       "      <th>smr4</th>\n",
       "      <th>smr5</th>\n",
       "      <th>UAvg</th>\n",
       "      <th>MAvg</th>\n",
       "      <th>rating</th>\n",
       "      <th>bslpr</th>\n",
       "      <th>slpOne_bsl</th>\n",
       "      <th>cC_bsl</th>\n",
       "    </tr>\n",
       "  </thead>\n",
       "  <tbody>\n",
       "    <tr>\n",
       "      <th>0</th>\n",
       "      <td>808635</td>\n",
       "      <td>71</td>\n",
       "      <td>3.587764</td>\n",
       "      <td>3.587764</td>\n",
       "      <td>3.587764</td>\n",
       "      <td>3.587764</td>\n",
       "      <td>3.587764</td>\n",
       "      <td>3.587764</td>\n",
       "      <td>3.587764</td>\n",
       "      <td>3.587764</td>\n",
       "      <td>3.587764</td>\n",
       "      <td>3.587764</td>\n",
       "      <td>3.587764</td>\n",
       "      <td>3.587764</td>\n",
       "      <td>3.587764</td>\n",
       "      <td>5</td>\n",
       "      <td>3.587764</td>\n",
       "      <td>3.587764</td>\n",
       "      <td>3.587764</td>\n",
       "    </tr>\n",
       "    <tr>\n",
       "      <th>1</th>\n",
       "      <td>941866</td>\n",
       "      <td>71</td>\n",
       "      <td>3.587764</td>\n",
       "      <td>3.587764</td>\n",
       "      <td>3.587764</td>\n",
       "      <td>3.587764</td>\n",
       "      <td>3.587764</td>\n",
       "      <td>3.587764</td>\n",
       "      <td>3.587764</td>\n",
       "      <td>3.587764</td>\n",
       "      <td>3.587764</td>\n",
       "      <td>3.587764</td>\n",
       "      <td>3.587764</td>\n",
       "      <td>3.587764</td>\n",
       "      <td>3.587764</td>\n",
       "      <td>4</td>\n",
       "      <td>3.587764</td>\n",
       "      <td>3.587764</td>\n",
       "      <td>3.587764</td>\n",
       "    </tr>\n",
       "  </tbody>\n",
       "</table>\n",
       "</div>"
      ],
      "text/plain": [
       "     user  movie      GAvg      sur1      sur2      sur3      sur4      sur5  \\\n",
       "0  808635     71  3.587764  3.587764  3.587764  3.587764  3.587764  3.587764   \n",
       "1  941866     71  3.587764  3.587764  3.587764  3.587764  3.587764  3.587764   \n",
       "\n",
       "       smr1      smr2      smr3      smr4      smr5      UAvg      MAvg  \\\n",
       "0  3.587764  3.587764  3.587764  3.587764  3.587764  3.587764  3.587764   \n",
       "1  3.587764  3.587764  3.587764  3.587764  3.587764  3.587764  3.587764   \n",
       "\n",
       "   rating     bslpr  slpOne_bsl    cC_bsl  \n",
       "0       5  3.587764    3.587764  3.587764  \n",
       "1       4  3.587764    3.587764  3.587764  "
      ]
     },
     "execution_count": 88,
     "metadata": {},
     "output_type": "execute_result"
    }
   ],
   "source": [
    "\n",
    "reg_test_df['cC_bsl'] = models_evaluation_test['cC_bsl']['predictions']\n",
    "\n",
    "reg_test_df.head(2)"
   ]
  },
  {
   "cell_type": "code",
   "execution_count": 89,
   "metadata": {},
   "outputs": [
    {
     "name": "stdout",
     "output_type": "stream",
     "text": [
      "Training the model.\n",
      "Training completed. Time taken : 0:00:02.234987\n",
      "\n",
      "Evaluating the model with TRAIN data.\n",
      "Evaluating Test data\n",
      "\n",
      "TEST DATA\n",
      "------------------------------\n",
      "RMSE :  1.1308185696539528\n",
      "MAPE :  33.46595067150309\n"
     ]
    },
    {
     "data": {
      "image/png": "[encoded data removed]",
      "text/plain": [
       "<Figure size 432x288 with 1 Axes>"
      ]
     },
     "metadata": {
      "needs_background": "light"
     },
     "output_type": "display_data"
    }
   ],
   "source": [
    "# prepare the train data....\n",
    "x_train = reg_train.drop(['user', 'movie', 'rating'], axis=1)\n",
    "y_train = reg_train['rating']\n",
    "\n",
    "# prepare the train data....\n",
    "x_test = reg_test_df.drop(['user','movie','rating'], axis=1)\n",
    "y_test = reg_test_df['rating']\n",
    "\n",
    "# declare the model\n",
    "xgb_knn_bsl = xgb.XGBRegressor(n_jobs=10, random_state=15)\n",
    "train_results, test_results = run_xgboost(xgb_knn_bsl, x_train, y_train, x_test, y_test)\n",
    "\n",
    "# store the results in models_evaluations dictionaries\n",
    "models_evaluation_train['xgb_cC_bsl'] = train_results\n",
    "models_evaluation_test['xgb_cC_bsl'] = test_results\n",
    "\n",
    "\n",
    "xgb.plot_importance(xgb_knn_bsl)\n",
    "plt.show()"
   ]
  },
  {
   "cell_type": "code",
   "execution_count": 90,
   "metadata": {},
   "outputs": [],
   "source": [
    "#4.4.6 Matrix Factorization Techniques"
   ]
  },
  {
   "cell_type": "code",
   "execution_count": 91,
   "metadata": {},
   "outputs": [],
   "source": [
    "#4.4.6.1 SVD Matrix Factorization User Movie intractions"
   ]
  },
  {
   "cell_type": "code",
   "execution_count": 92,
   "metadata": {},
   "outputs": [
    {
     "name": "stdout",
     "output_type": "stream",
     "text": [
      "Training the model\n",
      "Processing epoch 0\n",
      "Processing epoch 1\n",
      "Processing epoch 2\n",
      "Processing epoch 3\n",
      "Processing epoch 4\n",
      "Processing epoch 5\n",
      "Processing epoch 6\n",
      "Processing epoch 7\n",
      "Processing epoch 8\n",
      "Processing epoch 9\n",
      "Processing epoch 10\n",
      "Processing epoch 11\n",
      "Processing epoch 12\n",
      "Processing epoch 13\n",
      "Processing epoch 14\n",
      "Processing epoch 15\n",
      "Processing epoch 16\n",
      "Processing epoch 17\n",
      "Processing epoch 18\n",
      "Processing epoch 19\n",
      "Training Completed, time taken : 0:00:02.311816 \n",
      "\n",
      "Evaluating the model with train data\n",
      "time taken : 0:00:00.353090\n",
      "---------------\n",
      "Train Data\n",
      "---------------\n",
      "RMSE : 0.6489101978148224\n",
      "\n",
      "MAPE : 19.610682031594102\n",
      "\n",
      "Evaluating for test dataset\n",
      "time taken : 0:00:00.023902\n",
      "---------------\n",
      "Test Data\n",
      "---------------\n",
      "RMSE : 1.0824414317932143\n",
      "\n",
      "MAPE : 36.42986808992713\n",
      "\n",
      "storing the test results in test dictionary...\n",
      "\n",
      "---------------------------------------------\n",
      "Total time taken to run this algorithm : 0:00:00.023902\n"
     ]
    }
   ],
   "source": [
    "# initiallize the model\n",
    "svd = SVD(n_factors=100, biased=True, random_state=15, verbose=True)\n",
    "svd_train_results, svd_test_results = run_surprise(svd, trainset, testset, verbose=True)\n",
    "\n",
    "# Just store these error metrics in our models_evaluation data structure\n",
    "models_evaluation_train['svd'] = svd_train_results \n",
    "models_evaluation_test['svd'] = svd_test_results"
   ]
  },
  {
   "cell_type": "code",
   "execution_count": 93,
   "metadata": {},
   "outputs": [
    {
     "name": "stdout",
     "output_type": "stream",
     "text": [
      "Training the model.\n",
      "Training completed. Time taken : 0:00:02.247985\n",
      "\n",
      "Evaluating the model with TRAIN data.\n",
      "Evaluating Test data\n",
      "\n",
      "TEST DATA\n",
      "------------------------------\n",
      "RMSE :  1.1308185696539528\n",
      "MAPE :  33.46595067150309\n"
     ]
    },
    {
     "data": {
      "image/png": "[encoded data removed]",
      "text/plain": [
       "<Figure size 432x288 with 1 Axes>"
      ]
     },
     "metadata": {
      "needs_background": "light"
     },
     "output_type": "display_data"
    }
   ],
   "source": [
    "# prepare the train data....\n",
    "x_train = reg_train.drop(['user', 'movie', 'rating'], axis=1)\n",
    "y_train = reg_train['rating']\n",
    "\n",
    "# prepare the train data....\n",
    "x_test = reg_test_df.drop(['user','movie','rating'], axis=1)\n",
    "y_test = reg_test_df['rating']\n",
    "\n",
    "# declare the model\n",
    "xgb_knn_bsl = xgb.XGBRegressor(n_jobs=10, random_state=15)\n",
    "train_results, test_results = run_xgboost(xgb_knn_bsl, x_train, y_train, x_test, y_test)\n",
    "\n",
    "# store the results in models_evaluations dictionaries\n",
    "models_evaluation_train['xgb_svd'] = train_results\n",
    "models_evaluation_test['xgb_svd'] = test_results\n",
    "\n",
    "\n",
    "xgb.plot_importance(xgb_knn_bsl)\n",
    "plt.show()"
   ]
  },
  {
   "cell_type": "code",
   "execution_count": 94,
   "metadata": {},
   "outputs": [
    {
     "name": "stdout",
     "output_type": "stream",
     "text": [
      "Training the model\n",
      " processing epoch 0\n",
      " processing epoch 1\n",
      " processing epoch 2\n",
      " processing epoch 3\n",
      " processing epoch 4\n",
      " processing epoch 5\n",
      " processing epoch 6\n",
      " processing epoch 7\n",
      " processing epoch 8\n",
      " processing epoch 9\n",
      " processing epoch 10\n",
      " processing epoch 11\n",
      " processing epoch 12\n",
      " processing epoch 13\n",
      " processing epoch 14\n",
      " processing epoch 15\n",
      " processing epoch 16\n",
      " processing epoch 17\n",
      " processing epoch 18\n",
      " processing epoch 19\n",
      "Training Completed, time taken : 0:00:22.445503 \n",
      "\n",
      "Evaluating the model with train data\n",
      "time taken : 0:00:01.300735\n",
      "---------------\n",
      "Train Data\n",
      "---------------\n",
      "RMSE : 0.580922953588603\n",
      "\n",
      "MAPE : 16.906180713949645\n",
      "\n",
      "Evaluating for test dataset\n",
      "time taken : 0:00:00.020944\n",
      "---------------\n",
      "Test Data\n",
      "---------------\n",
      "RMSE : 1.0827172882861422\n",
      "\n",
      "MAPE : 36.44401463411591\n",
      "\n",
      "storing the test results in test dictionary...\n",
      "\n",
      "---------------------------------------------\n",
      "Total time taken to run this algorithm : 0:00:00.020944\n"
     ]
    }
   ],
   "source": [
    "# initiallize the model\n",
    "svdpp = SVDpp(n_factors=50, random_state=15, verbose=True)\n",
    "svdpp_train_results, svdpp_test_results = run_surprise(svdpp, trainset, testset, verbose=True)\n",
    "\n",
    "# Just store these error metrics in our models_evaluation datastructure\n",
    "models_evaluation_train['svdpp'] = svdpp_train_results \n",
    "models_evaluation_test['svdpp'] = svdpp_test_results"
   ]
  },
  {
   "cell_type": "code",
   "execution_count": 95,
   "metadata": {},
   "outputs": [
    {
     "name": "stdout",
     "output_type": "stream",
     "text": [
      "Training the model.\n",
      "Training completed. Time taken : 0:00:02.236019\n",
      "\n",
      "Evaluating the model with TRAIN data.\n",
      "Evaluating Test data\n",
      "\n",
      "TEST DATA\n",
      "------------------------------\n",
      "RMSE :  1.1308185696539528\n",
      "MAPE :  33.46595067150309\n"
     ]
    },
    {
     "data": {
      "image/png": "[encoded data removed]",
      "text/plain": [
       "<Figure size 432x288 with 1 Axes>"
      ]
     },
     "metadata": {
      "needs_background": "light"
     },
     "output_type": "display_data"
    }
   ],
   "source": [
    "# prepare the train data....\n",
    "x_train = reg_train.drop(['user', 'movie', 'rating'], axis=1)\n",
    "y_train = reg_train['rating']\n",
    "\n",
    "# prepare the train data....\n",
    "x_test = reg_test_df.drop(['user','movie','rating'], axis=1)\n",
    "y_test = reg_test_df['rating']\n",
    "\n",
    "# declare the model\n",
    "xgb_knn_bsl = xgb.XGBRegressor(n_jobs=10, random_state=15)\n",
    "train_results, test_results = run_xgboost(xgb_knn_bsl, x_train, y_train, x_test, y_test)\n",
    "\n",
    "# store the results in models_evaluations dictionaries\n",
    "models_evaluation_train['xgb_svdpp'] = train_results\n",
    "models_evaluation_test['xgb_svdpp'] = test_results\n",
    "\n",
    "\n",
    "xgb.plot_importance(xgb_knn_bsl)\n",
    "plt.show()"
   ]
  },
  {
   "cell_type": "code",
   "execution_count": 96,
   "metadata": {},
   "outputs": [],
   "source": [
    "#4.4.7 XgBoost with 13 features + Surprise Baseline + Surprise KNNbaseline + MF Techniques"
   ]
  },
  {
   "cell_type": "code",
   "execution_count": 97,
   "metadata": {},
   "outputs": [
    {
     "data": {
      "text/html": [
       "<div>\n",
       "<style scoped>\n",
       "    .dataframe tbody tr th:only-of-type {\n",
       "        vertical-align: middle;\n",
       "    }\n",
       "\n",
       "    .dataframe tbody tr th {\n",
       "        vertical-align: top;\n",
       "    }\n",
       "\n",
       "    .dataframe thead th {\n",
       "        text-align: right;\n",
       "    }\n",
       "</style>\n",
       "<table border=\"1\" class=\"dataframe\">\n",
       "  <thead>\n",
       "    <tr style=\"text-align: right;\">\n",
       "      <th></th>\n",
       "      <th>user</th>\n",
       "      <th>movie</th>\n",
       "      <th>GAvg</th>\n",
       "      <th>sur1</th>\n",
       "      <th>sur2</th>\n",
       "      <th>sur3</th>\n",
       "      <th>sur4</th>\n",
       "      <th>sur5</th>\n",
       "      <th>smr1</th>\n",
       "      <th>smr2</th>\n",
       "      <th>...</th>\n",
       "      <th>smr4</th>\n",
       "      <th>smr5</th>\n",
       "      <th>UAvg</th>\n",
       "      <th>MAvg</th>\n",
       "      <th>rating</th>\n",
       "      <th>bslpr</th>\n",
       "      <th>slpOne_bsl</th>\n",
       "      <th>cC_bsl</th>\n",
       "      <th>svd</th>\n",
       "      <th>svdpp</th>\n",
       "    </tr>\n",
       "  </thead>\n",
       "  <tbody>\n",
       "    <tr>\n",
       "      <th>0</th>\n",
       "      <td>53406</td>\n",
       "      <td>33</td>\n",
       "      <td>3.587764</td>\n",
       "      <td>5.0</td>\n",
       "      <td>3.0</td>\n",
       "      <td>4.0</td>\n",
       "      <td>4.0</td>\n",
       "      <td>5.0</td>\n",
       "      <td>5.0</td>\n",
       "      <td>2.0</td>\n",
       "      <td>...</td>\n",
       "      <td>1.0</td>\n",
       "      <td>3.0</td>\n",
       "      <td>3.342857</td>\n",
       "      <td>4.119403</td>\n",
       "      <td>4</td>\n",
       "      <td>3.846983</td>\n",
       "      <td>3.884264</td>\n",
       "      <td>3.540432</td>\n",
       "      <td>4.037523</td>\n",
       "      <td>3.987180</td>\n",
       "    </tr>\n",
       "    <tr>\n",
       "      <th>1</th>\n",
       "      <td>99865</td>\n",
       "      <td>33</td>\n",
       "      <td>3.587764</td>\n",
       "      <td>3.0</td>\n",
       "      <td>5.0</td>\n",
       "      <td>5.0</td>\n",
       "      <td>4.0</td>\n",
       "      <td>5.0</td>\n",
       "      <td>5.0</td>\n",
       "      <td>4.0</td>\n",
       "      <td>...</td>\n",
       "      <td>5.0</td>\n",
       "      <td>4.0</td>\n",
       "      <td>3.842105</td>\n",
       "      <td>4.119403</td>\n",
       "      <td>5</td>\n",
       "      <td>3.374390</td>\n",
       "      <td>3.438223</td>\n",
       "      <td>3.164940</td>\n",
       "      <td>3.065703</td>\n",
       "      <td>3.331309</td>\n",
       "    </tr>\n",
       "  </tbody>\n",
       "</table>\n",
       "<p>2 rows × 21 columns</p>\n",
       "</div>"
      ],
      "text/plain": [
       "    user  movie      GAvg  sur1  sur2  sur3  sur4  sur5  smr1  smr2  ...  \\\n",
       "0  53406     33  3.587764   5.0   3.0   4.0   4.0   5.0   5.0   2.0  ...   \n",
       "1  99865     33  3.587764   3.0   5.0   5.0   4.0   5.0   5.0   4.0  ...   \n",
       "\n",
       "   smr4  smr5      UAvg      MAvg  rating     bslpr  slpOne_bsl    cC_bsl  \\\n",
       "0   1.0   3.0  3.342857  4.119403       4  3.846983    3.884264  3.540432   \n",
       "1   5.0   4.0  3.842105  4.119403       5  3.374390    3.438223  3.164940   \n",
       "\n",
       "        svd     svdpp  \n",
       "0  4.037523  3.987180  \n",
       "1  3.065703  3.331309  \n",
       "\n",
       "[2 rows x 21 columns]"
      ]
     },
     "execution_count": 97,
     "metadata": {},
     "output_type": "execute_result"
    }
   ],
   "source": [
    "# add the predicted values from both knns to this dataframe\n",
    "reg_train['svd'] = models_evaluation_train['svd']['predictions']\n",
    "reg_train['svdpp'] = models_evaluation_train['svdpp']['predictions']\n",
    "\n",
    "reg_train.head(2)"
   ]
  },
  {
   "cell_type": "code",
   "execution_count": 98,
   "metadata": {},
   "outputs": [
    {
     "data": {
      "text/html": [
       "<div>\n",
       "<style scoped>\n",
       "    .dataframe tbody tr th:only-of-type {\n",
       "        vertical-align: middle;\n",
       "    }\n",
       "\n",
       "    .dataframe tbody tr th {\n",
       "        vertical-align: top;\n",
       "    }\n",
       "\n",
       "    .dataframe thead th {\n",
       "        text-align: right;\n",
       "    }\n",
       "</style>\n",
       "<table border=\"1\" class=\"dataframe\">\n",
       "  <thead>\n",
       "    <tr style=\"text-align: right;\">\n",
       "      <th></th>\n",
       "      <th>user</th>\n",
       "      <th>movie</th>\n",
       "      <th>GAvg</th>\n",
       "      <th>sur1</th>\n",
       "      <th>sur2</th>\n",
       "      <th>sur3</th>\n",
       "      <th>sur4</th>\n",
       "      <th>sur5</th>\n",
       "      <th>smr1</th>\n",
       "      <th>smr2</th>\n",
       "      <th>...</th>\n",
       "      <th>smr4</th>\n",
       "      <th>smr5</th>\n",
       "      <th>UAvg</th>\n",
       "      <th>MAvg</th>\n",
       "      <th>rating</th>\n",
       "      <th>bslpr</th>\n",
       "      <th>slpOne_bsl</th>\n",
       "      <th>cC_bsl</th>\n",
       "      <th>svd</th>\n",
       "      <th>svdpp</th>\n",
       "    </tr>\n",
       "  </thead>\n",
       "  <tbody>\n",
       "    <tr>\n",
       "      <th>0</th>\n",
       "      <td>808635</td>\n",
       "      <td>71</td>\n",
       "      <td>3.587764</td>\n",
       "      <td>3.587764</td>\n",
       "      <td>3.587764</td>\n",
       "      <td>3.587764</td>\n",
       "      <td>3.587764</td>\n",
       "      <td>3.587764</td>\n",
       "      <td>3.587764</td>\n",
       "      <td>3.587764</td>\n",
       "      <td>...</td>\n",
       "      <td>3.587764</td>\n",
       "      <td>3.587764</td>\n",
       "      <td>3.587764</td>\n",
       "      <td>3.587764</td>\n",
       "      <td>5</td>\n",
       "      <td>3.587764</td>\n",
       "      <td>3.587764</td>\n",
       "      <td>3.587764</td>\n",
       "      <td>3.587764</td>\n",
       "      <td>3.587764</td>\n",
       "    </tr>\n",
       "    <tr>\n",
       "      <th>1</th>\n",
       "      <td>941866</td>\n",
       "      <td>71</td>\n",
       "      <td>3.587764</td>\n",
       "      <td>3.587764</td>\n",
       "      <td>3.587764</td>\n",
       "      <td>3.587764</td>\n",
       "      <td>3.587764</td>\n",
       "      <td>3.587764</td>\n",
       "      <td>3.587764</td>\n",
       "      <td>3.587764</td>\n",
       "      <td>...</td>\n",
       "      <td>3.587764</td>\n",
       "      <td>3.587764</td>\n",
       "      <td>3.587764</td>\n",
       "      <td>3.587764</td>\n",
       "      <td>4</td>\n",
       "      <td>3.587764</td>\n",
       "      <td>3.587764</td>\n",
       "      <td>3.587764</td>\n",
       "      <td>3.587764</td>\n",
       "      <td>3.587764</td>\n",
       "    </tr>\n",
       "  </tbody>\n",
       "</table>\n",
       "<p>2 rows × 21 columns</p>\n",
       "</div>"
      ],
      "text/plain": [
       "     user  movie      GAvg      sur1      sur2      sur3      sur4      sur5  \\\n",
       "0  808635     71  3.587764  3.587764  3.587764  3.587764  3.587764  3.587764   \n",
       "1  941866     71  3.587764  3.587764  3.587764  3.587764  3.587764  3.587764   \n",
       "\n",
       "       smr1      smr2  ...      smr4      smr5      UAvg      MAvg  rating  \\\n",
       "0  3.587764  3.587764  ...  3.587764  3.587764  3.587764  3.587764       5   \n",
       "1  3.587764  3.587764  ...  3.587764  3.587764  3.587764  3.587764       4   \n",
       "\n",
       "      bslpr  slpOne_bsl    cC_bsl       svd     svdpp  \n",
       "0  3.587764    3.587764  3.587764  3.587764  3.587764  \n",
       "1  3.587764    3.587764  3.587764  3.587764  3.587764  \n",
       "\n",
       "[2 rows x 21 columns]"
      ]
     },
     "execution_count": 98,
     "metadata": {},
     "output_type": "execute_result"
    }
   ],
   "source": [
    "reg_test_df['svd'] = models_evaluation_test['svd']['predictions']\n",
    "reg_test_df['svdpp'] = models_evaluation_test['svdpp']['predictions']\n",
    "\n",
    "reg_test_df.head(2)"
   ]
  },
  {
   "cell_type": "code",
   "execution_count": 99,
   "metadata": {},
   "outputs": [
    {
     "name": "stdout",
     "output_type": "stream",
     "text": [
      "Training the model.\n",
      "Training completed. Time taken : 0:00:02.223053\n",
      "\n",
      "Evaluating the model with TRAIN data.\n",
      "Evaluating Test data\n",
      "\n",
      "TEST DATA\n",
      "------------------------------\n",
      "RMSE :  1.1068606981868563\n",
      "MAPE :  34.23381738434049\n"
     ]
    },
    {
     "data": {
      "image/png": "[encoded data removed]",
      "text/plain": [
       "<Figure size 432x288 with 1 Axes>"
      ]
     },
     "metadata": {
      "needs_background": "light"
     },
     "output_type": "display_data"
    }
   ],
   "source": [
    "# prepare x_train and y_train\n",
    "x_train = reg_train.drop(['user', 'movie', 'rating', 'cC_bsl','slpOne_bsl'], axis=1)\n",
    "y_train = reg_train['rating']\n",
    "\n",
    "# prepare test data\n",
    "x_test = reg_test_df.drop(['user', 'movie', 'rating', 'cC_bsl','slpOne_bsl'], axis=1)\n",
    "y_test = reg_test_df['rating']\n",
    "\n",
    "\n",
    "\n",
    "xgb_final = xgb.XGBRegressor(n_jobs=10, random_state=15)\n",
    "train_results, test_results = run_xgboost(xgb_final, x_train, y_train, x_test, y_test)\n",
    "\n",
    "# store the results in models_evaluations dictionaries\n",
    "models_evaluation_train['xgb_final'] = train_results\n",
    "models_evaluation_test['xgb_final'] = test_results\n",
    "\n",
    "\n",
    "xgb.plot_importance(xgb_final)\n",
    "plt.show()"
   ]
  },
  {
   "cell_type": "code",
   "execution_count": 100,
   "metadata": {},
   "outputs": [],
   "source": [
    "\n",
    "#4.4.8 XgBoost with Surprise Baseline + Surprise KNNbaseline + MF Techniques"
   ]
  },
  {
   "cell_type": "code",
   "execution_count": 101,
   "metadata": {},
   "outputs": [
    {
     "name": "stdout",
     "output_type": "stream",
     "text": [
      "Training the model.\n",
      "Training completed. Time taken : 0:00:01.951779\n",
      "\n",
      "Evaluating the model with TRAIN data.\n",
      "Evaluating Test data\n",
      "\n",
      "TEST DATA\n",
      "------------------------------\n",
      "RMSE :  1.0839702832528413\n",
      "MAPE :  36.43785838793146\n"
     ]
    },
    {
     "data": {
      "image/png": "[encoded data removed]",
      "text/plain": [
       "<Figure size 432x288 with 1 Axes>"
      ]
     },
     "metadata": {
      "needs_background": "light"
     },
     "output_type": "display_data"
    }
   ],
   "source": [
    "# prepare train data\n",
    "x_train = reg_train[['slpOne_bsl', 'cC_bsl', 'svd', 'svdpp']]\n",
    "y_train = reg_train['rating']\n",
    "\n",
    "# test data\n",
    "x_test = reg_test_df[['slpOne_bsl', 'cC_bsl', 'svd', 'svdpp']]\n",
    "y_test = reg_test_df['rating']\n",
    "\n",
    "\n",
    "xgb_all_models = xgb.XGBRegressor(n_jobs=10, random_state=15)\n",
    "train_results, test_results = run_xgboost(xgb_all_models, x_train, y_train, x_test, y_test)\n",
    "\n",
    "# store the results in models_evaluations dictionaries\n",
    "models_evaluation_train['xgb_all_models'] = train_results\n",
    "models_evaluation_test['xgb_all_models'] = test_results\n",
    "\n",
    "xgb.plot_importance(xgb_all_models)\n",
    "plt.show()"
   ]
  },
  {
   "cell_type": "code",
   "execution_count": 102,
   "metadata": {},
   "outputs": [],
   "source": [
    "#4.5 Comparision between all models"
   ]
  },
  {
   "cell_type": "code",
   "execution_count": 103,
   "metadata": {},
   "outputs": [
    {
     "data": {
      "text/plain": [
       "svd               1.0824414317932143\n",
       "svdpp             1.0827172882861422\n",
       "bsl_algo          1.0829335919531395\n",
       "xgb_all_models    1.0839702832528413\n",
       "slpOne_bsl        1.0852024439055872\n",
       "cC_bsl            1.0853023145214524\n",
       "xgb_slpOne_bsl    1.0883343056251564\n",
       "XGB               1.0983414903969977\n",
       "xgb_final         1.1068606981868563\n",
       "xgb_bsl            1.127705579406932\n",
       "xgb_cC_bsl        1.1308185696539528\n",
       "xgb_svd           1.1308185696539528\n",
       "xgb_svdpp         1.1308185696539528\n",
       "Name: rmse, dtype: object"
      ]
     },
     "execution_count": 103,
     "metadata": {},
     "output_type": "execute_result"
    }
   ],
   "source": [
    "# Saving our TEST_RESULTS into a dataframe so that you don't have to run it again\n",
    "pd.DataFrame(models_evaluation_test).to_csv('archive/small_sample_results.csv')\n",
    "models = pd.read_csv('archive/small_sample_results.csv', index_col=0)\n",
    "models.loc['rmse'].sort_values()"
   ]
  },
  {
   "cell_type": "code",
   "execution_count": null,
   "metadata": {},
   "outputs": [],
   "source": []
  },
  {
   "cell_type": "code",
   "execution_count": null,
   "metadata": {},
   "outputs": [],
   "source": []
  }
 ],
 "metadata": {
  "accelerator": "GPU",
  "colab": {
   "collapsed_sections": [],
   "machine_shape": "hm",
   "name": "aa.ipynb",
   "provenance": []
  },
  "kernelspec": {
   "display_name": "Python 3",
   "language": "python",
   "name": "python3"
  },
  "language_info": {
   "codemirror_mode": {
    "name": "ipython",
    "version": 3
   },
   "file_extension": ".py",
   "mimetype": "text/x-python",
   "name": "python",
   "nbconvert_exporter": "python",
   "pygments_lexer": "ipython3",
   "version": "3.7.6"
  }
 },
 "nbformat": 4,
 "nbformat_minor": 1
}
